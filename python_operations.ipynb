{
 "cells": [
  {
   "cell_type": "code",
   "execution_count": 52,
   "metadata": {},
   "outputs": [],
   "source": [
    "import pandas as pd\n",
    "import warnings\n",
    "warnings.filterwarnings(\"ignore\")\n",
    "# Load the dataset using pandas\n",
    "# df = pd.read_csv('C:\\\\Users\\\\This PC\\\\Desktop\\\\training\\\\trainingtask1\\\\Mall_Customers.csv')\n",
    "df = pd.read_csv('Mall_Customers.csv')"
   ]
  },
  {
   "cell_type": "code",
   "execution_count": 53,
   "metadata": {},
   "outputs": [
    {
     "data": {
      "text/html": [
       "<div>\n",
       "<style scoped>\n",
       "    .dataframe tbody tr th:only-of-type {\n",
       "        vertical-align: middle;\n",
       "    }\n",
       "\n",
       "    .dataframe tbody tr th {\n",
       "        vertical-align: top;\n",
       "    }\n",
       "\n",
       "    .dataframe thead th {\n",
       "        text-align: right;\n",
       "    }\n",
       "</style>\n",
       "<table border=\"1\" class=\"dataframe\">\n",
       "  <thead>\n",
       "    <tr style=\"text-align: right;\">\n",
       "      <th></th>\n",
       "      <th>CustomerID</th>\n",
       "      <th>Genre</th>\n",
       "      <th>Age</th>\n",
       "      <th>Annual Income (k$)</th>\n",
       "      <th>Spending Score (1-100)</th>\n",
       "    </tr>\n",
       "  </thead>\n",
       "  <tbody>\n",
       "    <tr>\n",
       "      <th>0</th>\n",
       "      <td>1</td>\n",
       "      <td>Male</td>\n",
       "      <td>19</td>\n",
       "      <td>15</td>\n",
       "      <td>39</td>\n",
       "    </tr>\n",
       "    <tr>\n",
       "      <th>1</th>\n",
       "      <td>2</td>\n",
       "      <td>Male</td>\n",
       "      <td>21</td>\n",
       "      <td>15</td>\n",
       "      <td>81</td>\n",
       "    </tr>\n",
       "    <tr>\n",
       "      <th>2</th>\n",
       "      <td>3</td>\n",
       "      <td>Female</td>\n",
       "      <td>20</td>\n",
       "      <td>16</td>\n",
       "      <td>6</td>\n",
       "    </tr>\n",
       "    <tr>\n",
       "      <th>3</th>\n",
       "      <td>4</td>\n",
       "      <td>Female</td>\n",
       "      <td>23</td>\n",
       "      <td>16</td>\n",
       "      <td>77</td>\n",
       "    </tr>\n",
       "    <tr>\n",
       "      <th>4</th>\n",
       "      <td>5</td>\n",
       "      <td>Female</td>\n",
       "      <td>31</td>\n",
       "      <td>17</td>\n",
       "      <td>40</td>\n",
       "    </tr>\n",
       "  </tbody>\n",
       "</table>\n",
       "</div>"
      ],
      "text/plain": [
       "   CustomerID   Genre  Age  Annual Income (k$)  Spending Score (1-100)\n",
       "0           1    Male   19                  15                      39\n",
       "1           2    Male   21                  15                      81\n",
       "2           3  Female   20                  16                       6\n",
       "3           4  Female   23                  16                      77\n",
       "4           5  Female   31                  17                      40"
      ]
     },
     "execution_count": 53,
     "metadata": {},
     "output_type": "execute_result"
    }
   ],
   "source": [
    "df.head()"
   ]
  },
  {
   "cell_type": "code",
   "execution_count": 54,
   "metadata": {},
   "outputs": [
    {
     "data": {
      "text/html": [
       "<div>\n",
       "<style scoped>\n",
       "    .dataframe tbody tr th:only-of-type {\n",
       "        vertical-align: middle;\n",
       "    }\n",
       "\n",
       "    .dataframe tbody tr th {\n",
       "        vertical-align: top;\n",
       "    }\n",
       "\n",
       "    .dataframe thead th {\n",
       "        text-align: right;\n",
       "    }\n",
       "</style>\n",
       "<table border=\"1\" class=\"dataframe\">\n",
       "  <thead>\n",
       "    <tr style=\"text-align: right;\">\n",
       "      <th></th>\n",
       "      <th>CustomerID</th>\n",
       "      <th>Gender</th>\n",
       "      <th>Age</th>\n",
       "      <th>Annual Income</th>\n",
       "      <th>Spending Score (1-100)</th>\n",
       "    </tr>\n",
       "  </thead>\n",
       "  <tbody>\n",
       "    <tr>\n",
       "      <th>0</th>\n",
       "      <td>1</td>\n",
       "      <td>Male</td>\n",
       "      <td>19</td>\n",
       "      <td>15</td>\n",
       "      <td>39</td>\n",
       "    </tr>\n",
       "    <tr>\n",
       "      <th>1</th>\n",
       "      <td>2</td>\n",
       "      <td>Male</td>\n",
       "      <td>21</td>\n",
       "      <td>15</td>\n",
       "      <td>81</td>\n",
       "    </tr>\n",
       "    <tr>\n",
       "      <th>2</th>\n",
       "      <td>3</td>\n",
       "      <td>Female</td>\n",
       "      <td>20</td>\n",
       "      <td>16</td>\n",
       "      <td>6</td>\n",
       "    </tr>\n",
       "    <tr>\n",
       "      <th>3</th>\n",
       "      <td>4</td>\n",
       "      <td>Female</td>\n",
       "      <td>23</td>\n",
       "      <td>16</td>\n",
       "      <td>77</td>\n",
       "    </tr>\n",
       "    <tr>\n",
       "      <th>4</th>\n",
       "      <td>5</td>\n",
       "      <td>Female</td>\n",
       "      <td>31</td>\n",
       "      <td>17</td>\n",
       "      <td>40</td>\n",
       "    </tr>\n",
       "    <tr>\n",
       "      <th>...</th>\n",
       "      <td>...</td>\n",
       "      <td>...</td>\n",
       "      <td>...</td>\n",
       "      <td>...</td>\n",
       "      <td>...</td>\n",
       "    </tr>\n",
       "    <tr>\n",
       "      <th>195</th>\n",
       "      <td>196</td>\n",
       "      <td>Female</td>\n",
       "      <td>35</td>\n",
       "      <td>120</td>\n",
       "      <td>79</td>\n",
       "    </tr>\n",
       "    <tr>\n",
       "      <th>196</th>\n",
       "      <td>197</td>\n",
       "      <td>Female</td>\n",
       "      <td>45</td>\n",
       "      <td>126</td>\n",
       "      <td>28</td>\n",
       "    </tr>\n",
       "    <tr>\n",
       "      <th>197</th>\n",
       "      <td>198</td>\n",
       "      <td>Male</td>\n",
       "      <td>32</td>\n",
       "      <td>126</td>\n",
       "      <td>74</td>\n",
       "    </tr>\n",
       "    <tr>\n",
       "      <th>198</th>\n",
       "      <td>199</td>\n",
       "      <td>Male</td>\n",
       "      <td>32</td>\n",
       "      <td>137</td>\n",
       "      <td>18</td>\n",
       "    </tr>\n",
       "    <tr>\n",
       "      <th>199</th>\n",
       "      <td>200</td>\n",
       "      <td>Male</td>\n",
       "      <td>30</td>\n",
       "      <td>137</td>\n",
       "      <td>83</td>\n",
       "    </tr>\n",
       "  </tbody>\n",
       "</table>\n",
       "<p>200 rows × 5 columns</p>\n",
       "</div>"
      ],
      "text/plain": [
       "     CustomerID  Gender  Age  Annual Income  Spending Score (1-100)\n",
       "0             1    Male   19             15                      39\n",
       "1             2    Male   21             15                      81\n",
       "2             3  Female   20             16                       6\n",
       "3             4  Female   23             16                      77\n",
       "4             5  Female   31             17                      40\n",
       "..          ...     ...  ...            ...                     ...\n",
       "195         196  Female   35            120                      79\n",
       "196         197  Female   45            126                      28\n",
       "197         198    Male   32            126                      74\n",
       "198         199    Male   32            137                      18\n",
       "199         200    Male   30            137                      83\n",
       "\n",
       "[200 rows x 5 columns]"
      ]
     },
     "execution_count": 54,
     "metadata": {},
     "output_type": "execute_result"
    }
   ],
   "source": [
    "# Change the column name\n",
    "df.rename(columns={'Genre': 'Gender','Annual Income (k$)':'Annual Income'}, inplace=True)\n",
    "df"
   ]
  },
  {
   "cell_type": "code",
   "execution_count": 55,
   "metadata": {},
   "outputs": [
    {
     "data": {
      "text/plain": [
       "CustomerID                0\n",
       "Gender                    0\n",
       "Age                       0\n",
       "Annual Income             0\n",
       "Spending Score (1-100)    0\n",
       "dtype: int64"
      ]
     },
     "execution_count": 55,
     "metadata": {},
     "output_type": "execute_result"
    }
   ],
   "source": [
    "# checking for null values in each column\n",
    "df.isnull().sum()"
   ]
  },
  {
   "cell_type": "code",
   "execution_count": 56,
   "metadata": {},
   "outputs": [
    {
     "name": "stdout",
     "output_type": "stream",
     "text": [
      "200\n"
     ]
    }
   ],
   "source": [
    "# To calculate the probability that a randomly selected customer\n",
    "# falls into a specific age group \n",
    "# (e.g., under 30, between 30 and 40, over 40)\n",
    "\n",
    "# Total number of customers (sample size)\n",
    "total_customers = len(df)\n",
    "print(total_customers)"
   ]
  },
  {
   "cell_type": "code",
   "execution_count": 57,
   "metadata": {},
   "outputs": [
    {
     "name": "stdout",
     "output_type": "stream",
     "text": [
      "55\n"
     ]
    }
   ],
   "source": [
    "# Count of customers under 30\n",
    "under_30_count = len(df[df['Age'] < 30])\n",
    "print(under_30_count)"
   ]
  },
  {
   "cell_type": "code",
   "execution_count": 58,
   "metadata": {},
   "outputs": [
    {
     "name": "stdout",
     "output_type": "stream",
     "text": [
      "0.275\n"
     ]
    }
   ],
   "source": [
    "# Probability of selecting a customer under 30\n",
    "probability_under_30 = under_30_count / total_customers\n",
    "print(probability_under_30)"
   ]
  },
  {
   "cell_type": "code",
   "execution_count": 59,
   "metadata": {},
   "outputs": [
    {
     "name": "stdout",
     "output_type": "stream",
     "text": [
      "male counts 26\n",
      "female counts 29\n"
     ]
    }
   ],
   "source": [
    "# Filter the DataFrame to select customers under the age of 30\n",
    "under_30_customers = df[df['Age'] < 30]\n",
    "\n",
    "# Count the number of male and female customers in the under 30 group\n",
    "male_count = len(under_30_customers[under_30_customers['Gender'] == 'Male'])\n",
    "female_count = len(under_30_customers[under_30_customers['Gender'] == 'Female'])\n",
    "\n",
    "print(\"male counts\",male_count)\n",
    "print(\"female counts\",female_count)"
   ]
  },
  {
   "cell_type": "code",
   "execution_count": 60,
   "metadata": {},
   "outputs": [
    {
     "name": "stdout",
     "output_type": "stream",
     "text": [
      "Range of male ages: 18 to 70\n"
     ]
    }
   ],
   "source": [
    "# If there are male customers in the dataset\n",
    "if male_count > 0:\n",
    "    # Find the minimum and maximum age values for male customers\n",
    "    min_male_age = df[df['Gender'] == 'Male']['Age'].min()\n",
    "    max_male_age = df[df['Gender'] == 'Male']['Age'].max()\n",
    "\n",
    "    print(\"Range of male ages:\", min_male_age, \"to\", max_male_age)\n",
    "else:\n",
    "    print(\"There are no male customers in the dataset.\")"
   ]
  },
  {
   "cell_type": "code",
   "execution_count": 61,
   "metadata": {},
   "outputs": [
    {
     "name": "stdout",
     "output_type": "stream",
     "text": [
      "0.13\n",
      "0.145\n"
     ]
    }
   ],
   "source": [
    "# Calculate the probability of selecting a male customer\n",
    "probability_male = male_count / total_customers\n",
    "print(probability_male)\n",
    "# Calculate the probability of selecting a female customer\n",
    "probability_female = female_count / total_customers\n",
    "print(probability_female)"
   ]
  },
  {
   "cell_type": "code",
   "execution_count": 62,
   "metadata": {},
   "outputs": [
    {
     "name": "stdout",
     "output_type": "stream",
     "text": [
      "0.87\n"
     ]
    }
   ],
   "source": [
    "# compliment example for this dataset\n",
    "# Calculating the complement probability of not selecting a male customer\n",
    "probability_not_male = 1 - probability_male\n",
    "print(probability_not_male)"
   ]
  },
  {
   "cell_type": "code",
   "execution_count": 63,
   "metadata": {},
   "outputs": [
    {
     "name": "stdout",
     "output_type": "stream",
     "text": [
      "0.855\n"
     ]
    }
   ],
   "source": [
    "probability_not_female = 1 - probability_female\n",
    "print(probability_not_female)"
   ]
  },
  {
   "cell_type": "code",
   "execution_count": 64,
   "metadata": {},
   "outputs": [
    {
     "name": "stdout",
     "output_type": "stream",
     "text": [
      "1.0\n"
     ]
    }
   ],
   "source": [
    "print(probability_male + probability_not_male)"
   ]
  },
  {
   "cell_type": "code",
   "execution_count": 65,
   "metadata": {},
   "outputs": [
    {
     "name": "stdout",
     "output_type": "stream",
     "text": [
      "0.035750000000000004\n",
      "3.575\n"
     ]
    }
   ],
   "source": [
    "# Calculate the intersection probability\n",
    "probability_male_and_under_30 = probability_male * probability_under_30\n",
    "print(probability_male_and_under_30)\n",
    "print(probability_male_and_under_30*100)"
   ]
  },
  {
   "cell_type": "code",
   "execution_count": 66,
   "metadata": {},
   "outputs": [],
   "source": [
    "import matplotlib.pyplot as plt\n",
    "from matplotlib_venn import venn2"
   ]
  },
  {
   "cell_type": "code",
   "execution_count": 67,
   "metadata": {},
   "outputs": [
    {
     "data": {
      "image/png": "[encoded data removed]",
      "text/plain": [
       "<Figure size 640x480 with 1 Axes>"
      ]
     },
     "metadata": {},
     "output_type": "display_data"
    }
   ],
   "source": [
    "# Create a Venn diagram with labels\n",
    "venn2(subsets=(probability_male*100, probability_under_30*100, probability_male_and_under_30*100),\n",
    "      set_labels=('Male', 'Under 30'))\n",
    "\n",
    "# Display the plot\n",
    "plt.show()"
   ]
  },
  {
   "cell_type": "code",
   "execution_count": 68,
   "metadata": {},
   "outputs": [],
   "source": [
    "import seaborn as sns"
   ]
  },
  {
   "cell_type": "code",
   "execution_count": 69,
   "metadata": {},
   "outputs": [
    {
     "data": {
      "image/png": "[encoded data removed]",
      "text/plain": [
       "<Figure size 640x480 with 1 Axes>"
      ]
     },
     "metadata": {},
     "output_type": "display_data"
    }
   ],
   "source": [
    "# Create a bar plot\n",
    "sns.barplot(x='Gender', y='Age', data=df)\n",
    "\n",
    "# Add labels and a title\n",
    "plt.xlabel('Gender')\n",
    "plt.ylabel('Age')\n",
    "plt.title('Bar Plot of Gender vs. Age')\n",
    "\n",
    "# Show the plot\n",
    "plt.show()"
   ]
  },
  {
   "cell_type": "code",
   "execution_count": 70,
   "metadata": {},
   "outputs": [
    {
     "name": "stdout",
     "output_type": "stream",
     "text": [
      "36.0\n"
     ]
    }
   ],
   "source": [
    "# Calculate the median (50th percentile) of the 'Age' column\n",
    "median_age = df['Age'].median()\n",
    "print(median_age)"
   ]
  },
  {
   "cell_type": "code",
   "execution_count": 71,
   "metadata": {},
   "outputs": [
    {
     "name": "stdout",
     "output_type": "stream",
     "text": [
      "1st Quartile (25th percentile): 28.75\n",
      "2nd Quartile (Median, 50th percentile): 36.0\n",
      "3rd Quartile (75th percentile): 49.0\n"
     ]
    }
   ],
   "source": [
    "# Calculate quartiles for the 'Age' column\n",
    "quartiles = df['Age'].quantile([0.25, 0.5, 0.75])\n",
    "\n",
    "# Print the quartiles\n",
    "print(\"1st Quartile (25th percentile):\", quartiles[0.25])\n",
    "print(\"2nd Quartile (Median, 50th percentile):\", quartiles[0.5])\n",
    "print(\"3rd Quartile (75th percentile):\", quartiles[0.75])"
   ]
  },
  {
   "cell_type": "code",
   "execution_count": 72,
   "metadata": {},
   "outputs": [
    {
     "name": "stdout",
     "output_type": "stream",
     "text": [
      "Male Customers - 25th Percentile: 27.75\n",
      "Male Customers - 75th Percentile: 50.5\n",
      "Female Customers - 25th Percentile: 29.0\n",
      "Female Customers - 75th Percentile: 47.5\n"
     ]
    }
   ],
   "source": [
    "# Separate data for male and female customers\n",
    "male_data = df[df['Gender'] == 'Male']\n",
    "female_data = df[df['Gender'] == 'Female']\n",
    "\n",
    "# Calculate quartiles for the 'Age' column for male customers\n",
    "male_quartiles = male_data['Age'].quantile([0.25, 0.75])\n",
    "\n",
    "# Calculate quartiles for the 'Age' column for female customers\n",
    "female_quartiles = female_data['Age'].quantile([0.25, 0.75])\n",
    "\n",
    "# Print the quartiles for male and female customers\n",
    "print(\"Male Customers - 25th Percentile:\", male_quartiles[0.25])\n",
    "print(\"Male Customers - 75th Percentile:\", male_quartiles[0.75])\n",
    "\n",
    "print(\"Female Customers - 25th Percentile:\", female_quartiles[0.25])\n",
    "print(\"Female Customers - 75th Percentile:\", female_quartiles[0.75])"
   ]
  },
  {
   "cell_type": "code",
   "execution_count": 73,
   "metadata": {},
   "outputs": [],
   "source": [
    "data_to_analyze = df['Age']"
   ]
  },
  {
   "cell_type": "code",
   "execution_count": 74,
   "metadata": {},
   "outputs": [
    {
     "data": {
      "image/png": "[encoded data removed]",
      "text/plain": [
       "<Figure size 640x480 with 1 Axes>"
      ]
     },
     "metadata": {},
     "output_type": "display_data"
    }
   ],
   "source": [
    "# Create a box plot\n",
    "plt.boxplot(data_to_analyze)\n",
    "plt.show()"
   ]
  },
  {
   "cell_type": "code",
   "execution_count": 75,
   "metadata": {},
   "outputs": [
    {
     "name": "stdout",
     "output_type": "stream",
     "text": [
      "Male Customers:\n",
      "Q1: 27.75\n",
      "Q3: 50.5\n",
      "IQR: 22.75\n",
      "\n",
      "Female Customers:\n",
      "Q1: 29.0\n",
      "Q3: 47.5\n",
      "IQR: 18.5\n"
     ]
    }
   ],
   "source": [
    "# Calculate IQR for male customers' ages\n",
    "male_iqr=male_quartiles[0.75]-male_quartiles[0.25]\n",
    "\n",
    "# Calculate IQR for female customers' ages\n",
    "female_iqr=female_quartiles[0.75]-female_quartiles[0.25]\n",
    "\n",
    "print(\"Male Customers:\")\n",
    "print(\"Q1:\", male_quartiles[0.25])\n",
    "print(\"Q3:\", male_quartiles[0.75])\n",
    "print(\"IQR:\", male_iqr)\n",
    "\n",
    "print(\"\\nFemale Customers:\")\n",
    "print(\"Q1:\", female_quartiles[0.25])\n",
    "print(\"Q3:\", female_quartiles[0.75])\n",
    "print(\"IQR:\", female_iqr)"
   ]
  },
  {
   "cell_type": "code",
   "execution_count": 76,
   "metadata": {},
   "outputs": [],
   "source": [
    "data_analyze = male_data['Age']"
   ]
  },
  {
   "cell_type": "code",
   "execution_count": 77,
   "metadata": {},
   "outputs": [
    {
     "data": {
      "image/png": "[encoded data removed]",
      "text/plain": [
       "<Figure size 640x480 with 1 Axes>"
      ]
     },
     "metadata": {},
     "output_type": "display_data"
    }
   ],
   "source": [
    "# Create a box plot\n",
    "plt.boxplot(data_analyze)\n",
    "plt.show()"
   ]
  },
  {
   "cell_type": "code",
   "execution_count": 78,
   "metadata": {},
   "outputs": [
    {
     "name": "stdout",
     "output_type": "stream",
     "text": [
      "Male Customers:\n",
      "Lower Bound: -6.375\n",
      "Upper Bound: 84.625\n",
      "\n",
      "Female Customers:\n",
      "Lower Bound: 1.25\n",
      "Upper Bound: 75.25\n"
     ]
    }
   ],
   "source": [
    "# Determine lower and upper bounds for male customers' ages\n",
    "male_lower_bound = male_quartiles[0.25] - 1.5 * male_iqr\n",
    "male_upper_bound = male_quartiles[0.75] + 1.5 * male_iqr\n",
    "\n",
    "# Determine lower and upper bounds for female customers' ages\n",
    "female_lower_bound = female_quartiles[0.25] - 1.5 * female_iqr\n",
    "female_upper_bound = female_quartiles[0.75] + 1.5 * female_iqr\n",
    "\n",
    "print(\"Male Customers:\")\n",
    "print(\"Lower Bound:\", male_lower_bound)\n",
    "print(\"Upper Bound:\", male_upper_bound)\n",
    "\n",
    "print(\"\\nFemale Customers:\")\n",
    "print(\"Lower Bound:\", female_lower_bound)\n",
    "print(\"Upper Bound:\", female_upper_bound)"
   ]
  },
  {
   "cell_type": "code",
   "execution_count": 79,
   "metadata": {},
   "outputs": [],
   "source": [
    "# male_age=male_quartiles[0.25]\n",
    "# # Identify outliers for male customers' ages\n",
    "# male_outliers = male_age[(male_quartiles[0.25] < male_lower_bound) | (male_quartiles[0.25] > male_upper_bound)]\n",
    "\n",
    "# # Identify outliers for female customers' ages\n",
    "# female_outliers = female_age[(female_age < female_lower_bound) | (female_age > female_upper_bound)]\n",
    "\n",
    "# print(\"Outliers for Male Customers:\")\n",
    "# print(male_outliers)\n",
    "\n",
    "# print(\"\\nOutliers for Female Customers:\")\n",
    "# print(female_outliers)"
   ]
  },
  {
   "cell_type": "code",
   "execution_count": 80,
   "metadata": {},
   "outputs": [],
   "source": [
    "# conditional probability\n",
    "# Weather Forecast: In weather forecasting, P(Rain | Cloudy) represents the probability of rain occurring given that the sky is cloudy. The likelihood of rain is higher when the sky is cloudy compared to when it's clear.\n",
    "\n",
    "# Card Games: In card games like poker, P(Full House | Three of a Kind) represents the probability of getting a full house (a specific hand) in the game given that you already have three of a kind."
   ]
  },
  {
   "cell_type": "code",
   "execution_count": 81,
   "metadata": {},
   "outputs": [
    {
     "name": "stdout",
     "output_type": "stream",
     "text": [
      "0.44\n",
      "0.56\n",
      "0.275\n",
      "0.305\n",
      "0.42\n"
     ]
    }
   ],
   "source": [
    "# Calculate marginal probabilities\n",
    "# total_customers = len(df) alreday calculated above\n",
    "\n",
    "# Probability of being Male (Event A)\n",
    "p_male = len(df[df['Gender'] == 'Male']) / total_customers\n",
    "print(p_male)\n",
    "# Probability of being Female (Event B)\n",
    "p_female = len(df[df['Gender'] == 'Female']) / total_customers\n",
    "print(p_female)\n",
    "# Probability of age under 30 (Event C)\n",
    "p_age_under_30 = len(df[df['Age'] < 30]) / total_customers\n",
    "print(p_age_under_30)\n",
    "# Probability of age between 30 and 40 (Event D)\n",
    "p_age_between_30_and_40 = len(df[(df['Age'] >= 30) & (df['Age'] < 40)]) / total_customers\n",
    "print(p_age_between_30_and_40)\n",
    "# Probability of age over 40 (Event E)\n",
    "p_age_over_40 = len(df[df['Age'] >= 40]) / total_customers\n",
    "print(p_age_over_40)"
   ]
  },
  {
   "cell_type": "code",
   "execution_count": 82,
   "metadata": {},
   "outputs": [
    {
     "name": "stdout",
     "output_type": "stream",
     "text": [
      "0.13\n",
      "0.23\n"
     ]
    }
   ],
   "source": [
    "# Calculate Joint Probabilities\n",
    "\n",
    "# Probability of being Male and Age < 30 (P(A and C))\n",
    "p_male_and_age_under_30 = len(df[(df['Gender'] == 'Male') & (df['Age'] < 30)]) / total_customers\n",
    "print(p_male_and_age_under_30)\n",
    "# Probability of being Female and Age >= 40 (P(B and E))\n",
    "p_female_and_age_over_40 = len(df[(df['Gender'] == 'Female') & (df['Age'] >= 40)]) / total_customers\n",
    "print(p_female_and_age_over_40)"
   ]
  },
  {
   "cell_type": "code",
   "execution_count": 83,
   "metadata": {},
   "outputs": [
    {
     "name": "stdout",
     "output_type": "stream",
     "text": [
      "0.4727272727272727\n",
      "0.5476190476190477\n"
     ]
    }
   ],
   "source": [
    "# Calculate Conditional Probabilities\n",
    "\n",
    "# Conditional probability of being Male given Age < 30 (P(A | C))\n",
    "p_male_given_age_under_30 = p_male_and_age_under_30 / p_age_under_30\n",
    "print(p_male_given_age_under_30)\n",
    "# Conditional probability of being Female given Age >= 40 (P(B | E))\n",
    "p_female_given_age_over_40 = p_female_and_age_over_40 / p_age_over_40\n",
    "print(p_female_given_age_over_40)"
   ]
  },
  {
   "cell_type": "code",
   "execution_count": 84,
   "metadata": {},
   "outputs": [
    {
     "name": "stdout",
     "output_type": "stream",
     "text": [
      "p_male : 0.44\n",
      "probability_income_gt_50 : 0.63\n",
      "Probability (Male and Income > 50): 0.44 * 0.63 : 0.2772\n"
     ]
    }
   ],
   "source": [
    "#independent events\n",
    "# prob of being male\n",
    "print(\"p_male :\",p_male)\n",
    "# Probability of having annual income > 50\n",
    "probability_income_gt_50 = len(df[df['Annual Income'] > 50]) / total_customers\n",
    "print(\"probability_income_gt_50 :\",probability_income_gt_50)\n",
    "# Probability of being both male and having annual income > 50 (independent events)\n",
    "probability_both = p_male * probability_income_gt_50\n",
    "\n",
    "print(\"Probability (Male and Income > 50):\",p_male,\"*\",probability_income_gt_50, \":\", probability_both)"
   ]
  },
  {
   "cell_type": "code",
   "execution_count": 85,
   "metadata": {},
   "outputs": [
    {
     "name": "stdout",
     "output_type": "stream",
     "text": [
      "Probability (Male): 0.44\n",
      "Probability (Female): 0.56\n",
      "Probability (Mutually Exclusive): 0.0\n"
     ]
    }
   ],
   "source": [
    "# Check if Male and Female are mutually exclusive\n",
    "probability_both = len(df[(df['Gender'] == 'Male') & (df['Gender'] == 'Female')]) / total_customers\n",
    "\n",
    "print(\"Probability (Male):\", p_male)\n",
    "print(\"Probability (Female):\", p_female)\n",
    "print(\"Probability (Mutually Exclusive):\", probability_both)"
   ]
  },
  {
   "cell_type": "code",
   "execution_count": 86,
   "metadata": {},
   "outputs": [
    {
     "name": "stdout",
     "output_type": "stream",
     "text": [
      "Probability of being male given high spending score: 0.39473684210526316\n"
     ]
    }
   ],
   "source": [
    "#Bayes theorem\n",
    "\n",
    "# Calculate P(A), the prior probability of being male\n",
    "\n",
    "male_customers = len(df[df['Gender'] == 'Male'])\n",
    "p_A = male_customers / total_customers\n",
    "\n",
    "# Calculate P(B|A), the conditional probability of high spending score given male\n",
    "\n",
    "male_high_spend = len(df[(df['Gender'] == 'Male') & (df['Spending Score (1-100)'] > 75)])  # Assuming high score is > 75\n",
    "p_B_given_A = male_high_spend / male_customers\n",
    "\n",
    "# Calculate P(B), the overall probability of high spending score\n",
    "high_spend_customers = len(df[df['Spending Score (1-100)'] > 75])  # Assuming high score is > 75\n",
    "p_B = high_spend_customers / total_customers\n",
    "\n",
    "# Calculate P(A|B), the probability of being male given high spending score\n",
    "p_A_given_B = (p_B_given_A * p_A) / p_B\n",
    "\n",
    "print(\"Probability of being male given high spending score:\", p_A_given_B)"
   ]
  },
  {
   "cell_type": "code",
   "execution_count": 94,
   "metadata": {},
   "outputs": [
    {
     "name": "stdout",
     "output_type": "stream",
     "text": [
      "Covariance between Age and Annual Income: -4.548743718592955\n"
     ]
    }
   ],
   "source": [
    "\n",
    "# Select the two columns for which you want to calculate covariance\n",
    "X = df['Age']\n",
    "Y = df['Annual Income']\n",
    "\n",
    "# Calculate the means of X and Y\n",
    "mean_X = X.mean()\n",
    "mean_Y = Y.mean()\n",
    "\n",
    "# Calculate the covariance\n",
    "covariance = sum((X - mean_X) * (Y - mean_Y)) / (len(df) - 1)\n",
    "\n",
    "print(\"Covariance between Age and Annual Income:\", covariance)"
   ]
  },
  {
   "cell_type": "code",
   "execution_count": 92,
   "metadata": {},
   "outputs": [
    {
     "name": "stdout",
     "output_type": "stream",
     "text": [
      "Correlation between Age and Annual Income: -0.01239804273606013\n"
     ]
    }
   ],
   "source": [
    "# Calculate the deviations from the mean\n",
    "deviation_x = X - mean_X\n",
    "deviation_y = Y - mean_Y\n",
    "\n",
    "# Calculate the product of deviations\n",
    "product_deviations = deviation_x * deviation_y\n",
    "\n",
    "# Calculate the sum of squared deviations\n",
    "sum_squared_deviation_x = (deviation_x ** 2).sum()\n",
    "sum_squared_deviation_y = (deviation_y ** 2).sum()\n",
    "\n",
    "# Calculate the correlation coefficient\n",
    "correlation = product_deviations.sum() / ((sum_squared_deviation_x * sum_squared_deviation_y) ** 0.5)\n",
    "\n",
    "# Print the correlation coefficient\n",
    "print(\"Correlation between Age and Annual Income:\", correlation)"
   ]
  },
  {
   "cell_type": "code",
   "execution_count": 87,
   "metadata": {},
   "outputs": [
    {
     "name": "stdout",
     "output_type": "stream",
     "text": [
      "<class 'pandas.core.frame.DataFrame'>\n",
      "RangeIndex: 200 entries, 0 to 199\n",
      "Data columns (total 5 columns):\n",
      " #   Column                  Non-Null Count  Dtype \n",
      "---  ------                  --------------  ----- \n",
      " 0   CustomerID              200 non-null    int64 \n",
      " 1   Gender                  200 non-null    object\n",
      " 2   Age                     200 non-null    int64 \n",
      " 3   Annual Income           200 non-null    int64 \n",
      " 4   Spending Score (1-100)  200 non-null    int64 \n",
      "dtypes: int64(4), object(1)\n",
      "memory usage: 7.9+ KB\n"
     ]
    }
   ],
   "source": [
    "df.info()"
   ]
  },
  {
   "cell_type": "code",
   "execution_count": 88,
   "metadata": {},
   "outputs": [
    {
     "data": {
      "text/html": [
       "<div>\n",
       "<style scoped>\n",
       "    .dataframe tbody tr th:only-of-type {\n",
       "        vertical-align: middle;\n",
       "    }\n",
       "\n",
       "    .dataframe tbody tr th {\n",
       "        vertical-align: top;\n",
       "    }\n",
       "\n",
       "    .dataframe thead th {\n",
       "        text-align: right;\n",
       "    }\n",
       "</style>\n",
       "<table border=\"1\" class=\"dataframe\">\n",
       "  <thead>\n",
       "    <tr style=\"text-align: right;\">\n",
       "      <th></th>\n",
       "      <th>CustomerID</th>\n",
       "      <th>Age</th>\n",
       "      <th>Annual Income</th>\n",
       "      <th>Spending Score (1-100)</th>\n",
       "    </tr>\n",
       "  </thead>\n",
       "  <tbody>\n",
       "    <tr>\n",
       "      <th>count</th>\n",
       "      <td>200.000000</td>\n",
       "      <td>200.000000</td>\n",
       "      <td>200.000000</td>\n",
       "      <td>200.000000</td>\n",
       "    </tr>\n",
       "    <tr>\n",
       "      <th>mean</th>\n",
       "      <td>100.500000</td>\n",
       "      <td>38.850000</td>\n",
       "      <td>60.560000</td>\n",
       "      <td>50.200000</td>\n",
       "    </tr>\n",
       "    <tr>\n",
       "      <th>std</th>\n",
       "      <td>57.879185</td>\n",
       "      <td>13.969007</td>\n",
       "      <td>26.264721</td>\n",
       "      <td>25.823522</td>\n",
       "    </tr>\n",
       "    <tr>\n",
       "      <th>min</th>\n",
       "      <td>1.000000</td>\n",
       "      <td>18.000000</td>\n",
       "      <td>15.000000</td>\n",
       "      <td>1.000000</td>\n",
       "    </tr>\n",
       "    <tr>\n",
       "      <th>25%</th>\n",
       "      <td>50.750000</td>\n",
       "      <td>28.750000</td>\n",
       "      <td>41.500000</td>\n",
       "      <td>34.750000</td>\n",
       "    </tr>\n",
       "    <tr>\n",
       "      <th>50%</th>\n",
       "      <td>100.500000</td>\n",
       "      <td>36.000000</td>\n",
       "      <td>61.500000</td>\n",
       "      <td>50.000000</td>\n",
       "    </tr>\n",
       "    <tr>\n",
       "      <th>75%</th>\n",
       "      <td>150.250000</td>\n",
       "      <td>49.000000</td>\n",
       "      <td>78.000000</td>\n",
       "      <td>73.000000</td>\n",
       "    </tr>\n",
       "    <tr>\n",
       "      <th>max</th>\n",
       "      <td>200.000000</td>\n",
       "      <td>70.000000</td>\n",
       "      <td>137.000000</td>\n",
       "      <td>99.000000</td>\n",
       "    </tr>\n",
       "  </tbody>\n",
       "</table>\n",
       "</div>"
      ],
      "text/plain": [
       "       CustomerID         Age  Annual Income  Spending Score (1-100)\n",
       "count  200.000000  200.000000     200.000000              200.000000\n",
       "mean   100.500000   38.850000      60.560000               50.200000\n",
       "std     57.879185   13.969007      26.264721               25.823522\n",
       "min      1.000000   18.000000      15.000000                1.000000\n",
       "25%     50.750000   28.750000      41.500000               34.750000\n",
       "50%    100.500000   36.000000      61.500000               50.000000\n",
       "75%    150.250000   49.000000      78.000000               73.000000\n",
       "max    200.000000   70.000000     137.000000               99.000000"
      ]
     },
     "execution_count": 88,
     "metadata": {},
     "output_type": "execute_result"
    }
   ],
   "source": [
    "df.describe()"
   ]
  }
 ],
 "metadata": {
  "kernelspec": {
   "display_name": "Python 3",
   "language": "python",
   "name": "python3"
  },
  "language_info": {
   "codemirror_mode": {
    "name": "ipython",
    "version": 3
   },
   "file_extension": ".py",
   "mimetype": "text/x-python",
   "name": "python",
   "nbconvert_exporter": "python",
   "pygments_lexer": "ipython3",
   "version": "3.11.5"
  },
  "orig_nbformat": 4
 },
 "nbformat": 4,
 "nbformat_minor": 2
}
