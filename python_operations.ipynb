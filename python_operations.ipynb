{
 "cells": [
  {
   "cell_type": "code",
   "execution_count": 1,
   "metadata": {},
   "outputs": [],
   "source": [
    "import pandas as pd\n",
    "import warnings\n",
    "warnings.filterwarnings(\"ignore\")\n",
    "df = pd.read_csv('Mall_Customers.csv')"
   ]
  },
  {
   "cell_type": "code",
   "execution_count": 2,
   "metadata": {},
   "outputs": [
    {
     "data": {
      "text/html": [
       "<div>\n",
       "<style scoped>\n",
       "    .dataframe tbody tr th:only-of-type {\n",
       "        vertical-align: middle;\n",
       "    }\n",
       "\n",
       "    .dataframe tbody tr th {\n",
       "        vertical-align: top;\n",
       "    }\n",
       "\n",
       "    .dataframe thead th {\n",
       "        text-align: right;\n",
       "    }\n",
       "</style>\n",
       "<table border=\"1\" class=\"dataframe\">\n",
       "  <thead>\n",
       "    <tr style=\"text-align: right;\">\n",
       "      <th></th>\n",
       "      <th>CustomerID</th>\n",
       "      <th>Genre</th>\n",
       "      <th>Age</th>\n",
       "      <th>Annual Income (k$)</th>\n",
       "      <th>Spending Score (1-100)</th>\n",
       "    </tr>\n",
       "  </thead>\n",
       "  <tbody>\n",
       "    <tr>\n",
       "      <th>0</th>\n",
       "      <td>1</td>\n",
       "      <td>Male</td>\n",
       "      <td>19</td>\n",
       "      <td>15</td>\n",
       "      <td>39</td>\n",
       "    </tr>\n",
       "    <tr>\n",
       "      <th>1</th>\n",
       "      <td>2</td>\n",
       "      <td>Male</td>\n",
       "      <td>21</td>\n",
       "      <td>15</td>\n",
       "      <td>81</td>\n",
       "    </tr>\n",
       "    <tr>\n",
       "      <th>2</th>\n",
       "      <td>3</td>\n",
       "      <td>Female</td>\n",
       "      <td>20</td>\n",
       "      <td>16</td>\n",
       "      <td>6</td>\n",
       "    </tr>\n",
       "    <tr>\n",
       "      <th>3</th>\n",
       "      <td>4</td>\n",
       "      <td>Female</td>\n",
       "      <td>23</td>\n",
       "      <td>16</td>\n",
       "      <td>77</td>\n",
       "    </tr>\n",
       "    <tr>\n",
       "      <th>4</th>\n",
       "      <td>5</td>\n",
       "      <td>Female</td>\n",
       "      <td>31</td>\n",
       "      <td>17</td>\n",
       "      <td>40</td>\n",
       "    </tr>\n",
       "  </tbody>\n",
       "</table>\n",
       "</div>"
      ],
      "text/plain": [
       "   CustomerID   Genre  Age  Annual Income (k$)  Spending Score (1-100)\n",
       "0           1    Male   19                  15                      39\n",
       "1           2    Male   21                  15                      81\n",
       "2           3  Female   20                  16                       6\n",
       "3           4  Female   23                  16                      77\n",
       "4           5  Female   31                  17                      40"
      ]
     },
     "execution_count": 2,
     "metadata": {},
     "output_type": "execute_result"
    }
   ],
   "source": [
    "df.head()"
   ]
  },
  {
   "cell_type": "code",
   "execution_count": 3,
   "metadata": {},
   "outputs": [
    {
     "data": {
      "text/html": [
       "<div>\n",
       "<style scoped>\n",
       "    .dataframe tbody tr th:only-of-type {\n",
       "        vertical-align: middle;\n",
       "    }\n",
       "\n",
       "    .dataframe tbody tr th {\n",
       "        vertical-align: top;\n",
       "    }\n",
       "\n",
       "    .dataframe thead th {\n",
       "        text-align: right;\n",
       "    }\n",
       "</style>\n",
       "<table border=\"1\" class=\"dataframe\">\n",
       "  <thead>\n",
       "    <tr style=\"text-align: right;\">\n",
       "      <th></th>\n",
       "      <th>CustomerID</th>\n",
       "      <th>Gender</th>\n",
       "      <th>Age</th>\n",
       "      <th>Annual Income</th>\n",
       "      <th>Spending Score (1-100)</th>\n",
       "    </tr>\n",
       "  </thead>\n",
       "  <tbody>\n",
       "    <tr>\n",
       "      <th>0</th>\n",
       "      <td>1</td>\n",
       "      <td>Male</td>\n",
       "      <td>19</td>\n",
       "      <td>15</td>\n",
       "      <td>39</td>\n",
       "    </tr>\n",
       "    <tr>\n",
       "      <th>1</th>\n",
       "      <td>2</td>\n",
       "      <td>Male</td>\n",
       "      <td>21</td>\n",
       "      <td>15</td>\n",
       "      <td>81</td>\n",
       "    </tr>\n",
       "    <tr>\n",
       "      <th>2</th>\n",
       "      <td>3</td>\n",
       "      <td>Female</td>\n",
       "      <td>20</td>\n",
       "      <td>16</td>\n",
       "      <td>6</td>\n",
       "    </tr>\n",
       "    <tr>\n",
       "      <th>3</th>\n",
       "      <td>4</td>\n",
       "      <td>Female</td>\n",
       "      <td>23</td>\n",
       "      <td>16</td>\n",
       "      <td>77</td>\n",
       "    </tr>\n",
       "    <tr>\n",
       "      <th>4</th>\n",
       "      <td>5</td>\n",
       "      <td>Female</td>\n",
       "      <td>31</td>\n",
       "      <td>17</td>\n",
       "      <td>40</td>\n",
       "    </tr>\n",
       "    <tr>\n",
       "      <th>...</th>\n",
       "      <td>...</td>\n",
       "      <td>...</td>\n",
       "      <td>...</td>\n",
       "      <td>...</td>\n",
       "      <td>...</td>\n",
       "    </tr>\n",
       "    <tr>\n",
       "      <th>195</th>\n",
       "      <td>196</td>\n",
       "      <td>Female</td>\n",
       "      <td>35</td>\n",
       "      <td>120</td>\n",
       "      <td>79</td>\n",
       "    </tr>\n",
       "    <tr>\n",
       "      <th>196</th>\n",
       "      <td>197</td>\n",
       "      <td>Female</td>\n",
       "      <td>45</td>\n",
       "      <td>126</td>\n",
       "      <td>28</td>\n",
       "    </tr>\n",
       "    <tr>\n",
       "      <th>197</th>\n",
       "      <td>198</td>\n",
       "      <td>Male</td>\n",
       "      <td>32</td>\n",
       "      <td>126</td>\n",
       "      <td>74</td>\n",
       "    </tr>\n",
       "    <tr>\n",
       "      <th>198</th>\n",
       "      <td>199</td>\n",
       "      <td>Male</td>\n",
       "      <td>32</td>\n",
       "      <td>137</td>\n",
       "      <td>18</td>\n",
       "    </tr>\n",
       "    <tr>\n",
       "      <th>199</th>\n",
       "      <td>200</td>\n",
       "      <td>Male</td>\n",
       "      <td>30</td>\n",
       "      <td>137</td>\n",
       "      <td>83</td>\n",
       "    </tr>\n",
       "  </tbody>\n",
       "</table>\n",
       "<p>200 rows × 5 columns</p>\n",
       "</div>"
      ],
      "text/plain": [
       "     CustomerID  Gender  Age  Annual Income  Spending Score (1-100)\n",
       "0             1    Male   19             15                      39\n",
       "1             2    Male   21             15                      81\n",
       "2             3  Female   20             16                       6\n",
       "3             4  Female   23             16                      77\n",
       "4             5  Female   31             17                      40\n",
       "..          ...     ...  ...            ...                     ...\n",
       "195         196  Female   35            120                      79\n",
       "196         197  Female   45            126                      28\n",
       "197         198    Male   32            126                      74\n",
       "198         199    Male   32            137                      18\n",
       "199         200    Male   30            137                      83\n",
       "\n",
       "[200 rows x 5 columns]"
      ]
     },
     "execution_count": 3,
     "metadata": {},
     "output_type": "execute_result"
    }
   ],
   "source": [
    "# Change the column name\n",
    "df.rename(columns={'Genre': 'Gender','Annual Income (k$)':'Annual Income'}, inplace=True)\n",
    "df"
   ]
  },
  {
   "cell_type": "code",
   "execution_count": 4,
   "metadata": {},
   "outputs": [
    {
     "data": {
      "text/plain": [
       "CustomerID                0\n",
       "Gender                    0\n",
       "Age                       0\n",
       "Annual Income             0\n",
       "Spending Score (1-100)    0\n",
       "dtype: int64"
      ]
     },
     "execution_count": 4,
     "metadata": {},
     "output_type": "execute_result"
    }
   ],
   "source": [
    "# checking for null values in each column\n",
    "df.isnull().sum()"
   ]
  },
  {
   "cell_type": "code",
   "execution_count": 5,
   "metadata": {},
   "outputs": [
    {
     "name": "stdout",
     "output_type": "stream",
     "text": [
      "200\n"
     ]
    }
   ],
   "source": [
    "# To calculate the probability that a randomly selected customer\n",
    "# falls into a specific age group \n",
    "# (e.g., under 30, between 30 and 40, over 40)\n",
    "\n",
    "# Total number of customers (sample size)\n",
    "total_customers = len(df)\n",
    "print(total_customers)"
   ]
  },
  {
   "cell_type": "code",
   "execution_count": 6,
   "metadata": {},
   "outputs": [
    {
     "name": "stdout",
     "output_type": "stream",
     "text": [
      "55\n"
     ]
    }
   ],
   "source": [
    "# Count of customers under 30\n",
    "under_30_count = len(df[df['Age'] < 30])\n",
    "print(under_30_count)"
   ]
  },
  {
   "cell_type": "code",
   "execution_count": 7,
   "metadata": {},
   "outputs": [
    {
     "name": "stdout",
     "output_type": "stream",
     "text": [
      "0.275\n"
     ]
    }
   ],
   "source": [
    "# Probability of selecting a customer under 30\n",
    "probability_under_30 = under_30_count / total_customers\n",
    "print(probability_under_30)"
   ]
  },
  {
   "cell_type": "code",
   "execution_count": 8,
   "metadata": {},
   "outputs": [
    {
     "name": "stdout",
     "output_type": "stream",
     "text": [
      "male counts 26\n",
      "female counts 29\n"
     ]
    }
   ],
   "source": [
    "# Filter the DataFrame to select customers under the age of 30\n",
    "under_30_customers = df[df['Age'] < 30]\n",
    "\n",
    "# Count the number of male and female customers in the under 30 group\n",
    "male_count = len(under_30_customers[under_30_customers['Gender'] == 'Male'])\n",
    "female_count = len(under_30_customers[under_30_customers['Gender'] == 'Female'])\n",
    "\n",
    "print(\"male counts\",male_count)\n",
    "print(\"female counts\",female_count)"
   ]
  },
  {
   "cell_type": "code",
   "execution_count": 9,
   "metadata": {},
   "outputs": [
    {
     "name": "stdout",
     "output_type": "stream",
     "text": [
      "Range of male ages: 18 to 70\n"
     ]
    }
   ],
   "source": [
    "# If there are male customers in the dataset\n",
    "if male_count > 0:\n",
    "    # Find the minimum and maximum age values for male customers\n",
    "    min_male_age = df[df['Gender'] == 'Male']['Age'].min()\n",
    "    max_male_age = df[df['Gender'] == 'Male']['Age'].max()\n",
    "\n",
    "    print(\"Range of male ages:\", min_male_age, \"to\", max_male_age)\n",
    "else:\n",
    "    print(\"There are no male customers in the dataset.\")"
   ]
  },
  {
   "cell_type": "code",
   "execution_count": 10,
   "metadata": {},
   "outputs": [
    {
     "name": "stdout",
     "output_type": "stream",
     "text": [
      "0.13\n",
      "0.145\n"
     ]
    }
   ],
   "source": [
    "# Calculate the probability of selecting a male customer\n",
    "probability_male = male_count / total_customers\n",
    "print(probability_male)\n",
    "# Calculate the probability of selecting a female customer\n",
    "probability_female = female_count / total_customers\n",
    "print(probability_female)"
   ]
  },
  {
   "cell_type": "code",
   "execution_count": 11,
   "metadata": {},
   "outputs": [
    {
     "name": "stdout",
     "output_type": "stream",
     "text": [
      "0.87\n"
     ]
    }
   ],
   "source": [
    "# compliment example for this dataset\n",
    "# Calculating the complement probability of not selecting a male customer\n",
    "probability_not_male = 1 - probability_male\n",
    "print(probability_not_male)"
   ]
  },
  {
   "cell_type": "code",
   "execution_count": 12,
   "metadata": {},
   "outputs": [
    {
     "name": "stdout",
     "output_type": "stream",
     "text": [
      "0.855\n"
     ]
    }
   ],
   "source": [
    "probability_not_female = 1 - probability_female\n",
    "print(probability_not_female)"
   ]
  },
  {
   "cell_type": "code",
   "execution_count": 13,
   "metadata": {},
   "outputs": [
    {
     "name": "stdout",
     "output_type": "stream",
     "text": [
      "1.0\n"
     ]
    }
   ],
   "source": [
    "print(probability_male + probability_not_male)"
   ]
  },
  {
   "cell_type": "code",
   "execution_count": 14,
   "metadata": {},
   "outputs": [
    {
     "name": "stdout",
     "output_type": "stream",
     "text": [
      "0.035750000000000004\n",
      "3.575\n"
     ]
    }
   ],
   "source": [
    "# Calculate the intersection probability\n",
    "probability_male_and_under_30 = probability_male * probability_under_30\n",
    "print(probability_male_and_under_30)\n",
    "print(probability_male_and_under_30*100)"
   ]
  },
  {
   "cell_type": "code",
   "execution_count": 15,
   "metadata": {},
   "outputs": [],
   "source": [
    "import matplotlib.pyplot as plt\n",
    "import seaborn as sns"
   ]
  },
  {
   "cell_type": "code",
   "execution_count": 16,
   "metadata": {},
   "outputs": [
    {
     "data": {
      "image/png": "[encoded data removed]",
      "text/plain": [
       "<Figure size 432x288 with 1 Axes>"
      ]
     },
     "metadata": {
      "needs_background": "light"
     },
     "output_type": "display_data"
    }
   ],
   "source": [
    "# Create a bar plot\n",
    "sns.barplot(x='Gender', y='Age', data=df)\n",
    "\n",
    "# Add labels and a title\n",
    "plt.xlabel('Gender')\n",
    "plt.ylabel('Age')\n",
    "plt.title('Bar Plot of Gender vs. Age')\n",
    "\n",
    "# Show the plot\n",
    "plt.show()"
   ]
  },
  {
   "cell_type": "code",
   "execution_count": 17,
   "metadata": {},
   "outputs": [
    {
     "name": "stdout",
     "output_type": "stream",
     "text": [
      "36.0\n"
     ]
    }
   ],
   "source": [
    "# Calculate the median (50th percentile) of the 'Age' column\n",
    "median_age = df['Age'].median()\n",
    "print(median_age)"
   ]
  },
  {
   "cell_type": "code",
   "execution_count": 18,
   "metadata": {},
   "outputs": [
    {
     "name": "stdout",
     "output_type": "stream",
     "text": [
      "1st Quartile (25th percentile): 28.75\n",
      "2nd Quartile (Median, 50th percentile): 36.0\n",
      "3rd Quartile (75th percentile): 49.0\n"
     ]
    }
   ],
   "source": [
    "# Calculate quartiles for the 'Age' column\n",
    "quartiles = df['Age'].quantile([0.25, 0.5, 0.75])\n",
    "\n",
    "# Print the quartiles\n",
    "print(\"1st Quartile (25th percentile):\", quartiles[0.25])\n",
    "print(\"2nd Quartile (Median, 50th percentile):\", quartiles[0.5])\n",
    "print(\"3rd Quartile (75th percentile):\", quartiles[0.75])"
   ]
  },
  {
   "cell_type": "code",
   "execution_count": 19,
   "metadata": {},
   "outputs": [
    {
     "name": "stdout",
     "output_type": "stream",
     "text": [
      "Male Customers - 25th Percentile: 27.75\n",
      "Male Customers - 75th Percentile: 50.5\n",
      "Female Customers - 25th Percentile: 29.0\n",
      "Female Customers - 75th Percentile: 47.5\n"
     ]
    }
   ],
   "source": [
    "# Separate data for male and female customers\n",
    "male_data = df[df['Gender'] == 'Male']\n",
    "female_data = df[df['Gender'] == 'Female']\n",
    "\n",
    "# Calculate quartiles for the 'Age' column for male customers\n",
    "male_quartiles = male_data['Age'].quantile([0.25, 0.75])\n",
    "\n",
    "# Calculate quartiles for the 'Age' column for female customers\n",
    "female_quartiles = female_data['Age'].quantile([0.25, 0.75])\n",
    "\n",
    "# Print the quartiles for male and female customers\n",
    "print(\"Male Customers - 25th Percentile:\", male_quartiles[0.25])\n",
    "print(\"Male Customers - 75th Percentile:\", male_quartiles[0.75])\n",
    "\n",
    "print(\"Female Customers - 25th Percentile:\", female_quartiles[0.25])\n",
    "print(\"Female Customers - 75th Percentile:\", female_quartiles[0.75])"
   ]
  },
  {
   "cell_type": "code",
   "execution_count": 20,
   "metadata": {},
   "outputs": [],
   "source": [
    "data_to_analyze = df['Age']"
   ]
  },
  {
   "cell_type": "code",
   "execution_count": 21,
   "metadata": {},
   "outputs": [
    {
     "data": {
      "image/png": "[encoded data removed]",
      "text/plain": [
       "<Figure size 432x288 with 1 Axes>"
      ]
     },
     "metadata": {
      "needs_background": "light"
     },
     "output_type": "display_data"
    }
   ],
   "source": [
    "# Create a box plot\n",
    "plt.boxplot(data_to_analyze)\n",
    "plt.show()"
   ]
  },
  {
   "cell_type": "code",
   "execution_count": 22,
   "metadata": {},
   "outputs": [
    {
     "name": "stdout",
     "output_type": "stream",
     "text": [
      "Male Customers:\n",
      "Q1: 27.75\n",
      "Q3: 50.5\n",
      "IQR: 22.75\n",
      "\n",
      "Female Customers:\n",
      "Q1: 29.0\n",
      "Q3: 47.5\n",
      "IQR: 18.5\n"
     ]
    }
   ],
   "source": [
    "# Calculate IQR for male customers' ages\n",
    "male_iqr=male_quartiles[0.75]-male_quartiles[0.25]\n",
    "\n",
    "# Calculate IQR for female customers' ages\n",
    "female_iqr=female_quartiles[0.75]-female_quartiles[0.25]\n",
    "\n",
    "print(\"Male Customers:\")\n",
    "print(\"Q1:\", male_quartiles[0.25])\n",
    "print(\"Q3:\", male_quartiles[0.75])\n",
    "print(\"IQR:\", male_iqr)\n",
    "\n",
    "print(\"\\nFemale Customers:\")\n",
    "print(\"Q1:\", female_quartiles[0.25])\n",
    "print(\"Q3:\", female_quartiles[0.75])\n",
    "print(\"IQR:\", female_iqr)"
   ]
  },
  {
   "cell_type": "code",
   "execution_count": 23,
   "metadata": {},
   "outputs": [],
   "source": [
    "data_analyze = male_data['Age']"
   ]
  },
  {
   "cell_type": "code",
   "execution_count": 24,
   "metadata": {},
   "outputs": [
    {
     "data": {
      "image/png": "[encoded data removed]",
      "text/plain": [
       "<Figure size 432x288 with 1 Axes>"
      ]
     },
     "metadata": {
      "needs_background": "light"
     },
     "output_type": "display_data"
    }
   ],
   "source": [
    "# Create a box plot\n",
    "plt.boxplot(data_analyze)\n",
    "plt.show()"
   ]
  },
  {
   "cell_type": "code",
   "execution_count": 25,
   "metadata": {},
   "outputs": [
    {
     "name": "stdout",
     "output_type": "stream",
     "text": [
      "Male Customers:\n",
      "Lower Bound: -6.375\n",
      "Upper Bound: 84.625\n",
      "\n",
      "Female Customers:\n",
      "Lower Bound: 1.25\n",
      "Upper Bound: 75.25\n"
     ]
    }
   ],
   "source": [
    "# Determine lower and upper bounds for male customers' ages\n",
    "male_lower_bound = male_quartiles[0.25] - 1.5 * male_iqr\n",
    "male_upper_bound = male_quartiles[0.75] + 1.5 * male_iqr\n",
    "\n",
    "# Determine lower and upper bounds for female customers' ages\n",
    "female_lower_bound = female_quartiles[0.25] - 1.5 * female_iqr\n",
    "female_upper_bound = female_quartiles[0.75] + 1.5 * female_iqr\n",
    "\n",
    "print(\"Male Customers:\")\n",
    "print(\"Lower Bound:\", male_lower_bound)\n",
    "print(\"Upper Bound:\", male_upper_bound)\n",
    "\n",
    "print(\"\\nFemale Customers:\")\n",
    "print(\"Lower Bound:\", female_lower_bound)\n",
    "print(\"Upper Bound:\", female_upper_bound)"
   ]
  },
  {
   "cell_type": "code",
   "execution_count": 26,
   "metadata": {},
   "outputs": [],
   "source": [
    "# male_age=male_quartiles[0.25]\n",
    "# # Identify outliers for male customers' ages\n",
    "# male_outliers = male_age[(male_quartiles[0.25] < male_lower_bound) | (male_quartiles[0.25] > male_upper_bound)]\n",
    "\n",
    "# # Identify outliers for female customers' ages\n",
    "# female_outliers = female_age[(female_age < female_lower_bound) | (female_age > female_upper_bound)]\n",
    "\n",
    "# print(\"Outliers for Male Customers:\")\n",
    "# print(male_outliers)\n",
    "\n",
    "# print(\"\\nOutliers for Female Customers:\")\n",
    "# print(female_outliers)"
   ]
  },
  {
   "cell_type": "code",
   "execution_count": 27,
   "metadata": {},
   "outputs": [],
   "source": [
    "# conditional probability\n",
    "# Weather Forecast: In weather forecasting, P(Rain | Cloudy) represents the probability of rain occurring given that the sky is cloudy. The likelihood of rain is higher when the sky is cloudy compared to when it's clear.\n",
    "\n",
    "# Card Games: In card games like poker, P(Full House | Three of a Kind) represents the probability of getting a full house (a specific hand) in the game given that you already have three of a kind."
   ]
  },
  {
   "cell_type": "code",
   "execution_count": 28,
   "metadata": {},
   "outputs": [
    {
     "name": "stdout",
     "output_type": "stream",
     "text": [
      "0.44\n",
      "0.56\n",
      "0.275\n",
      "0.305\n",
      "0.42\n"
     ]
    }
   ],
   "source": [
    "# Calculate marginal probabilities\n",
    "# total_customers = len(df) alreday calculated above\n",
    "\n",
    "# Probability of being Male (Event A)\n",
    "p_male = len(df[df['Gender'] == 'Male']) / total_customers\n",
    "print(p_male)\n",
    "# Probability of being Female (Event B)\n",
    "p_female = len(df[df['Gender'] == 'Female']) / total_customers\n",
    "print(p_female)\n",
    "# Probability of age under 30 (Event C)\n",
    "p_age_under_30 = len(df[df['Age'] < 30]) / total_customers\n",
    "print(p_age_under_30)\n",
    "# Probability of age between 30 and 40 (Event D)\n",
    "p_age_between_30_and_40 = len(df[(df['Age'] >= 30) & (df['Age'] < 40)]) / total_customers\n",
    "print(p_age_between_30_and_40)\n",
    "# Probability of age over 40 (Event E)\n",
    "p_age_over_40 = len(df[df['Age'] >= 40]) / total_customers\n",
    "print(p_age_over_40)"
   ]
  },
  {
   "cell_type": "code",
   "execution_count": 29,
   "metadata": {},
   "outputs": [
    {
     "name": "stdout",
     "output_type": "stream",
     "text": [
      "0.13\n",
      "0.23\n"
     ]
    }
   ],
   "source": [
    "# Calculate Joint Probabilities\n",
    "\n",
    "# Probability of being Male and Age < 30 (P(A and C))\n",
    "p_male_and_age_under_30 = len(df[(df['Gender'] == 'Male') & (df['Age'] < 30)]) / total_customers\n",
    "print(p_male_and_age_under_30)\n",
    "# Probability of being Female and Age >= 40 (P(B and E))\n",
    "p_female_and_age_over_40 = len(df[(df['Gender'] == 'Female') & (df['Age'] >= 40)]) / total_customers\n",
    "print(p_female_and_age_over_40)"
   ]
  },
  {
   "cell_type": "code",
   "execution_count": 30,
   "metadata": {},
   "outputs": [
    {
     "name": "stdout",
     "output_type": "stream",
     "text": [
      "0.4727272727272727\n",
      "0.5476190476190477\n"
     ]
    }
   ],
   "source": [
    "# Calculate Conditional Probabilities\n",
    "\n",
    "# Conditional probability of being Male given Age < 30 (P(A | C))\n",
    "p_male_given_age_under_30 = p_male_and_age_under_30 / p_age_under_30\n",
    "print(p_male_given_age_under_30)\n",
    "# Conditional probability of being Female given Age >= 40 (P(B | E))\n",
    "p_female_given_age_over_40 = p_female_and_age_over_40 / p_age_over_40\n",
    "print(p_female_given_age_over_40)"
   ]
  },
  {
   "cell_type": "code",
   "execution_count": 31,
   "metadata": {},
   "outputs": [
    {
     "name": "stdout",
     "output_type": "stream",
     "text": [
      "p_male : 0.44\n",
      "probability_income_gt_50 : 0.63\n",
      "Probability (Male and Income > 50): 0.44 * 0.63 : 0.2772\n"
     ]
    }
   ],
   "source": [
    "#independent events\n",
    "# prob of being male\n",
    "print(\"p_male :\",p_male)\n",
    "# Probability of having annual income > 50\n",
    "probability_income_gt_50 = len(df[df['Annual Income'] > 50]) / total_customers\n",
    "print(\"probability_income_gt_50 :\",probability_income_gt_50)\n",
    "# Probability of being both male and having annual income > 50 (independent events)\n",
    "probability_both = p_male * probability_income_gt_50\n",
    "\n",
    "print(\"Probability (Male and Income > 50):\",p_male,\"*\",probability_income_gt_50, \":\", probability_both)"
   ]
  },
  {
   "cell_type": "code",
   "execution_count": 32,
   "metadata": {},
   "outputs": [
    {
     "name": "stdout",
     "output_type": "stream",
     "text": [
      "Probability (Male): 0.44\n",
      "Probability (Female): 0.56\n",
      "Probability (Mutually Exclusive): 0.0\n"
     ]
    }
   ],
   "source": [
    "# Check if Male and Female are mutually exclusive\n",
    "probability_both = len(df[(df['Gender'] == 'Male') & (df['Gender'] == 'Female')]) / total_customers\n",
    "\n",
    "print(\"Probability (Male):\", p_male)\n",
    "print(\"Probability (Female):\", p_female)\n",
    "print(\"Probability (Mutually Exclusive):\", probability_both)"
   ]
  },
  {
   "cell_type": "code",
   "execution_count": 33,
   "metadata": {},
   "outputs": [
    {
     "name": "stdout",
     "output_type": "stream",
     "text": [
      "Probability of being male given high spending score: 0.39473684210526316\n"
     ]
    }
   ],
   "source": [
    "#Bayes theorem\n",
    "\n",
    "# Calculate P(A), the prior probability of being male\n",
    "\n",
    "male_customers = len(df[df['Gender'] == 'Male'])\n",
    "p_A = male_customers / total_customers\n",
    "\n",
    "# Calculate P(B|A), the conditional probability of high spending score given male\n",
    "\n",
    "male_high_spend = len(df[(df['Gender'] == 'Male') & (df['Spending Score (1-100)'] > 75)])  # Assuming high score is > 75\n",
    "p_B_given_A = male_high_spend / male_customers\n",
    "\n",
    "# Calculate P(B), the overall probability of high spending score\n",
    "high_spend_customers = len(df[df['Spending Score (1-100)'] > 75])  # Assuming high score is > 75\n",
    "p_B = high_spend_customers / total_customers\n",
    "\n",
    "# Calculate P(A|B), the probability of being male given high spending score\n",
    "p_A_given_B = (p_B_given_A * p_A) / p_B\n",
    "\n",
    "print(\"Probability of being male given high spending score:\", p_A_given_B)"
   ]
  },
  {
   "cell_type": "code",
   "execution_count": 34,
   "metadata": {},
   "outputs": [
    {
     "name": "stdout",
     "output_type": "stream",
     "text": [
      "Covariance between Age and Annual Income: -4.548743718592955\n"
     ]
    }
   ],
   "source": [
    "\n",
    "# Select the two columns for which you want to calculate covariance\n",
    "X = df['Age']\n",
    "Y = df['Annual Income']\n",
    "\n",
    "# Calculate the means of X and Y\n",
    "mean_X = X.mean()\n",
    "mean_Y = Y.mean()\n",
    "\n",
    "# Calculate the covariance\n",
    "covariance = sum((X - mean_X) * (Y - mean_Y)) / (len(df) - 1)\n",
    "\n",
    "print(\"Covariance between Age and Annual Income:\", covariance)"
   ]
  },
  {
   "cell_type": "code",
   "execution_count": 35,
   "metadata": {},
   "outputs": [
    {
     "name": "stdout",
     "output_type": "stream",
     "text": [
      "Correlation between Age and Annual Income: -0.01239804273606013\n"
     ]
    }
   ],
   "source": [
    "# Calculate the deviations from the mean\n",
    "deviation_x = X - mean_X\n",
    "deviation_y = Y - mean_Y\n",
    "\n",
    "# Calculate the product of deviations\n",
    "product_deviations = deviation_x * deviation_y\n",
    "\n",
    "# Calculate the sum of squared deviations\n",
    "sum_squared_deviation_x = (deviation_x ** 2).sum()\n",
    "sum_squared_deviation_y = (deviation_y ** 2).sum()\n",
    "\n",
    "# Calculate the correlation coefficient\n",
    "correlation = product_deviations.sum() / ((sum_squared_deviation_x * sum_squared_deviation_y) ** 0.5)\n",
    "\n",
    "# Print the correlation coefficient\n",
    "print(\"Correlation between Age and Annual Income:\", correlation)"
   ]
  },
  {
   "cell_type": "code",
   "execution_count": 36,
   "metadata": {},
   "outputs": [
    {
     "name": "stdout",
     "output_type": "stream",
     "text": [
      "<class 'pandas.core.frame.DataFrame'>\n",
      "RangeIndex: 200 entries, 0 to 199\n",
      "Data columns (total 5 columns):\n",
      " #   Column                  Non-Null Count  Dtype \n",
      "---  ------                  --------------  ----- \n",
      " 0   CustomerID              200 non-null    int64 \n",
      " 1   Gender                  200 non-null    object\n",
      " 2   Age                     200 non-null    int64 \n",
      " 3   Annual Income           200 non-null    int64 \n",
      " 4   Spending Score (1-100)  200 non-null    int64 \n",
      "dtypes: int64(4), object(1)\n",
      "memory usage: 7.9+ KB\n"
     ]
    }
   ],
   "source": [
    "df.info()"
   ]
  },
  {
   "cell_type": "code",
   "execution_count": 37,
   "metadata": {},
   "outputs": [
    {
     "data": {
      "text/html": [
       "<div>\n",
       "<style scoped>\n",
       "    .dataframe tbody tr th:only-of-type {\n",
       "        vertical-align: middle;\n",
       "    }\n",
       "\n",
       "    .dataframe tbody tr th {\n",
       "        vertical-align: top;\n",
       "    }\n",
       "\n",
       "    .dataframe thead th {\n",
       "        text-align: right;\n",
       "    }\n",
       "</style>\n",
       "<table border=\"1\" class=\"dataframe\">\n",
       "  <thead>\n",
       "    <tr style=\"text-align: right;\">\n",
       "      <th></th>\n",
       "      <th>CustomerID</th>\n",
       "      <th>Age</th>\n",
       "      <th>Annual Income</th>\n",
       "      <th>Spending Score (1-100)</th>\n",
       "    </tr>\n",
       "  </thead>\n",
       "  <tbody>\n",
       "    <tr>\n",
       "      <th>count</th>\n",
       "      <td>200.000000</td>\n",
       "      <td>200.000000</td>\n",
       "      <td>200.000000</td>\n",
       "      <td>200.000000</td>\n",
       "    </tr>\n",
       "    <tr>\n",
       "      <th>mean</th>\n",
       "      <td>100.500000</td>\n",
       "      <td>38.850000</td>\n",
       "      <td>60.560000</td>\n",
       "      <td>50.200000</td>\n",
       "    </tr>\n",
       "    <tr>\n",
       "      <th>std</th>\n",
       "      <td>57.879185</td>\n",
       "      <td>13.969007</td>\n",
       "      <td>26.264721</td>\n",
       "      <td>25.823522</td>\n",
       "    </tr>\n",
       "    <tr>\n",
       "      <th>min</th>\n",
       "      <td>1.000000</td>\n",
       "      <td>18.000000</td>\n",
       "      <td>15.000000</td>\n",
       "      <td>1.000000</td>\n",
       "    </tr>\n",
       "    <tr>\n",
       "      <th>25%</th>\n",
       "      <td>50.750000</td>\n",
       "      <td>28.750000</td>\n",
       "      <td>41.500000</td>\n",
       "      <td>34.750000</td>\n",
       "    </tr>\n",
       "    <tr>\n",
       "      <th>50%</th>\n",
       "      <td>100.500000</td>\n",
       "      <td>36.000000</td>\n",
       "      <td>61.500000</td>\n",
       "      <td>50.000000</td>\n",
       "    </tr>\n",
       "    <tr>\n",
       "      <th>75%</th>\n",
       "      <td>150.250000</td>\n",
       "      <td>49.000000</td>\n",
       "      <td>78.000000</td>\n",
       "      <td>73.000000</td>\n",
       "    </tr>\n",
       "    <tr>\n",
       "      <th>max</th>\n",
       "      <td>200.000000</td>\n",
       "      <td>70.000000</td>\n",
       "      <td>137.000000</td>\n",
       "      <td>99.000000</td>\n",
       "    </tr>\n",
       "  </tbody>\n",
       "</table>\n",
       "</div>"
      ],
      "text/plain": [
       "       CustomerID         Age  Annual Income  Spending Score (1-100)\n",
       "count  200.000000  200.000000     200.000000              200.000000\n",
       "mean   100.500000   38.850000      60.560000               50.200000\n",
       "std     57.879185   13.969007      26.264721               25.823522\n",
       "min      1.000000   18.000000      15.000000                1.000000\n",
       "25%     50.750000   28.750000      41.500000               34.750000\n",
       "50%    100.500000   36.000000      61.500000               50.000000\n",
       "75%    150.250000   49.000000      78.000000               73.000000\n",
       "max    200.000000   70.000000     137.000000               99.000000"
      ]
     },
     "execution_count": 37,
     "metadata": {},
     "output_type": "execute_result"
    }
   ],
   "source": [
    "df.describe()"
   ]
  },
  {
   "cell_type": "code",
   "execution_count": 38,
   "metadata": {},
   "outputs": [],
   "source": [
    "# from matplotlib.backends.backend_agg import FigureCanvasAgg as FigureCanvas\n",
    "# from matplotlib.figure import Figure\n",
    "# fig=Figure()\n",
    "# canvas=FigureCanvas(fig)\n",
    "# import numpy as np\n",
    "# x=np.random.randn(10000)\n",
    "# ax=fig.add_subplot(111)\n",
    "# ax.hist(x,100)\n",
    "# ax.set_title('Normal distribution with $\\mu=0,\\sigma=1$')\n",
    "# fig.savefig('matplotlib_histogram.png')"
   ]
  },
  {
   "cell_type": "code",
   "execution_count": 39,
   "metadata": {},
   "outputs": [],
   "source": [
    "# import matplotlib.pyplot as plt\n",
    "# import numpy as np\n",
    "# x=np.random.randn(10000)\n",
    "# plt.hist(x,100)\n",
    "# plt.title(r'Normal distribution with $\\mu=0,\\sigma=1$')\n",
    "# plt.savefig('matplotlib_histogram2.png')\n",
    "# plt.show()"
   ]
  },
  {
   "cell_type": "code",
   "execution_count": 40,
   "metadata": {},
   "outputs": [],
   "source": [
    "# plt.plot(5,5,'o')\n",
    "# plt.show()"
   ]
  },
  {
   "cell_type": "code",
   "execution_count": 41,
   "metadata": {},
   "outputs": [],
   "source": [
    "# %matplotlib inline\n",
    "# import matplotlib.pyplot as plt"
   ]
  },
  {
   "cell_type": "code",
   "execution_count": 42,
   "metadata": {},
   "outputs": [],
   "source": [
    "# plt.plot(5,5,'o')\n",
    "# plt.show()\n",
    "# # as we have used inline so when the image is rendered then we cannot add fig title or fig axes all the to be done before calling plt.show()"
   ]
  },
  {
   "cell_type": "code",
   "execution_count": 43,
   "metadata": {},
   "outputs": [],
   "source": [
    "# # %matplotlib inline\n",
    "# import matplotlib.pyplot as plt\n",
    "# plt.ylabel('y')\n",
    "# plt.xlabel('x')\n",
    "# plt.title('plotting Example')\n",
    "# plt.plot(5,5,'o')"
   ]
  },
  {
   "cell_type": "code",
   "execution_count": 44,
   "metadata": {},
   "outputs": [
    {
     "data": {
      "text/html": [
       "<div>\n",
       "<style scoped>\n",
       "    .dataframe tbody tr th:only-of-type {\n",
       "        vertical-align: middle;\n",
       "    }\n",
       "\n",
       "    .dataframe tbody tr th {\n",
       "        vertical-align: top;\n",
       "    }\n",
       "\n",
       "    .dataframe thead th {\n",
       "        text-align: right;\n",
       "    }\n",
       "</style>\n",
       "<table border=\"1\" class=\"dataframe\">\n",
       "  <thead>\n",
       "    <tr style=\"text-align: right;\">\n",
       "      <th></th>\n",
       "      <th>Age</th>\n",
       "      <th>Annual Income</th>\n",
       "    </tr>\n",
       "  </thead>\n",
       "  <tbody>\n",
       "    <tr>\n",
       "      <th>1</th>\n",
       "      <td>21</td>\n",
       "      <td>15</td>\n",
       "    </tr>\n",
       "    <tr>\n",
       "      <th>2</th>\n",
       "      <td>20</td>\n",
       "      <td>16</td>\n",
       "    </tr>\n",
       "    <tr>\n",
       "      <th>3</th>\n",
       "      <td>23</td>\n",
       "      <td>16</td>\n",
       "    </tr>\n",
       "    <tr>\n",
       "      <th>4</th>\n",
       "      <td>31</td>\n",
       "      <td>17</td>\n",
       "    </tr>\n",
       "    <tr>\n",
       "      <th>5</th>\n",
       "      <td>22</td>\n",
       "      <td>17</td>\n",
       "    </tr>\n",
       "  </tbody>\n",
       "</table>\n",
       "</div>"
      ],
      "text/plain": [
       "   Age  Annual Income\n",
       "1   21             15\n",
       "2   20             16\n",
       "3   23             16\n",
       "4   31             17\n",
       "5   22             17"
      ]
     },
     "execution_count": 44,
     "metadata": {},
     "output_type": "execute_result"
    }
   ],
   "source": [
    "filtered_df = df[df['Age'].between(20, 40)]\n",
    "age_income_df=filtered_df[['Age','Annual Income']]\n",
    "age_income_df.head()"
   ]
  },
  {
   "cell_type": "code",
   "execution_count": 45,
   "metadata": {},
   "outputs": [
    {
     "data": {
      "image/png": "[encoded data removed]",
      "text/plain": [
       "<Figure size 432x288 with 1 Axes>"
      ]
     },
     "metadata": {
      "needs_background": "light"
     },
     "output_type": "display_data"
    }
   ],
   "source": [
    "%matplotlib inline\n",
    "age_income_df.plot(y='Annual Income',x='Age',kind='line',title='Age vs. Annual Income')\n",
    "plt.ylabel('Age')\n",
    "plt.xlabel('Annual Income')\n",
    "plt.show()\n",
    "#we use this when we have continuous dataset then we are interested in visualizing the data over the period of time"
   ]
  },
  {
   "cell_type": "code",
   "execution_count": 46,
   "metadata": {},
   "outputs": [],
   "source": [
    "# Area Plot-area chart or area graph\n",
    "# used to represent cumulated totals using numbers or percentages over time\n",
    "# It is based on the line plot and is commonly used when\n",
    "# trying to compare two or more quantities.\n"
   ]
  },
  {
   "cell_type": "code",
   "execution_count": 47,
   "metadata": {},
   "outputs": [
    {
     "data": {
      "text/html": [
       "<div>\n",
       "<style scoped>\n",
       "    .dataframe tbody tr th:only-of-type {\n",
       "        vertical-align: middle;\n",
       "    }\n",
       "\n",
       "    .dataframe tbody tr th {\n",
       "        vertical-align: top;\n",
       "    }\n",
       "\n",
       "    .dataframe thead th {\n",
       "        text-align: right;\n",
       "    }\n",
       "</style>\n",
       "<table border=\"1\" class=\"dataframe\">\n",
       "  <thead>\n",
       "    <tr style=\"text-align: right;\">\n",
       "      <th></th>\n",
       "      <th>Annual Income</th>\n",
       "      <th>Spending Score (1-100)</th>\n",
       "    </tr>\n",
       "  </thead>\n",
       "  <tbody>\n",
       "    <tr>\n",
       "      <th>0</th>\n",
       "      <td>137</td>\n",
       "      <td>83</td>\n",
       "    </tr>\n",
       "    <tr>\n",
       "      <th>1</th>\n",
       "      <td>137</td>\n",
       "      <td>18</td>\n",
       "    </tr>\n",
       "    <tr>\n",
       "      <th>2</th>\n",
       "      <td>126</td>\n",
       "      <td>74</td>\n",
       "    </tr>\n",
       "    <tr>\n",
       "      <th>3</th>\n",
       "      <td>126</td>\n",
       "      <td>28</td>\n",
       "    </tr>\n",
       "    <tr>\n",
       "      <th>4</th>\n",
       "      <td>120</td>\n",
       "      <td>79</td>\n",
       "    </tr>\n",
       "    <tr>\n",
       "      <th>...</th>\n",
       "      <td>...</td>\n",
       "      <td>...</td>\n",
       "    </tr>\n",
       "    <tr>\n",
       "      <th>195</th>\n",
       "      <td>17</td>\n",
       "      <td>76</td>\n",
       "    </tr>\n",
       "    <tr>\n",
       "      <th>196</th>\n",
       "      <td>16</td>\n",
       "      <td>6</td>\n",
       "    </tr>\n",
       "    <tr>\n",
       "      <th>197</th>\n",
       "      <td>16</td>\n",
       "      <td>77</td>\n",
       "    </tr>\n",
       "    <tr>\n",
       "      <th>198</th>\n",
       "      <td>15</td>\n",
       "      <td>81</td>\n",
       "    </tr>\n",
       "    <tr>\n",
       "      <th>199</th>\n",
       "      <td>15</td>\n",
       "      <td>39</td>\n",
       "    </tr>\n",
       "  </tbody>\n",
       "</table>\n",
       "<p>200 rows × 2 columns</p>\n",
       "</div>"
      ],
      "text/plain": [
       "     Annual Income  Spending Score (1-100)\n",
       "0              137                      83\n",
       "1              137                      18\n",
       "2              126                      74\n",
       "3              126                      28\n",
       "4              120                      79\n",
       "..             ...                     ...\n",
       "195             17                      76\n",
       "196             16                       6\n",
       "197             16                      77\n",
       "198             15                      81\n",
       "199             15                      39\n",
       "\n",
       "[200 rows x 2 columns]"
      ]
     },
     "execution_count": 47,
     "metadata": {},
     "output_type": "execute_result"
    }
   ],
   "source": [
    "df.sort_values(['Annual Income'],ascending=False,axis=0,inplace=True)\n",
    "custom_df=df[['Annual Income','Spending Score (1-100)']]\n",
    "custom_df.reset_index(drop=True, inplace=True)\n",
    "custom_df"
   ]
  },
  {
   "cell_type": "code",
   "execution_count": 48,
   "metadata": {},
   "outputs": [
    {
     "data": {
      "image/png": "[encoded data removed]",
      "text/plain": [
       "<Figure size 720x432 with 1 Axes>"
      ]
     },
     "metadata": {
      "needs_background": "light"
     },
     "output_type": "display_data"
    }
   ],
   "source": [
    "# custom_df.plot(kind='area')\n",
    "plt.figure(figsize=(10, 6))\n",
    "plt.fill_between(custom_df.index, custom_df['Annual Income'], custom_df['Spending Score (1-100)'], alpha=0.5)\n",
    "plt.xlabel('Customer')\n",
    "plt.ylabel('Values')\n",
    "plt.title('Area Plot of Annual Income vs Spending Score')\n",
    "plt.legend(['Annual Income', 'Spending Score (1-100)'])\n",
    "plt.show()"
   ]
  },
  {
   "cell_type": "code",
   "execution_count": null,
   "metadata": {},
   "outputs": [],
   "source": []
  },
  {
   "cell_type": "code",
   "execution_count": null,
   "metadata": {},
   "outputs": [],
   "source": []
  },
  {
   "cell_type": "code",
   "execution_count": 50,
   "metadata": {},
   "outputs": [],
   "source": [
    "# A histogram is a way of representing the frequency distribution\n",
    "# of a numeric dataset."
   ]
  },
  {
   "cell_type": "code",
   "execution_count": 51,
   "metadata": {},
   "outputs": [
    {
     "data": {
      "text/html": [
       "<div>\n",
       "<style scoped>\n",
       "    .dataframe tbody tr th:only-of-type {\n",
       "        vertical-align: middle;\n",
       "    }\n",
       "\n",
       "    .dataframe tbody tr th {\n",
       "        vertical-align: top;\n",
       "    }\n",
       "\n",
       "    .dataframe thead th {\n",
       "        text-align: right;\n",
       "    }\n",
       "</style>\n",
       "<table border=\"1\" class=\"dataframe\">\n",
       "  <thead>\n",
       "    <tr style=\"text-align: right;\">\n",
       "      <th></th>\n",
       "      <th>Annual Income</th>\n",
       "    </tr>\n",
       "  </thead>\n",
       "  <tbody>\n",
       "    <tr>\n",
       "      <th>199</th>\n",
       "      <td>137</td>\n",
       "    </tr>\n",
       "    <tr>\n",
       "      <th>198</th>\n",
       "      <td>137</td>\n",
       "    </tr>\n",
       "    <tr>\n",
       "      <th>197</th>\n",
       "      <td>126</td>\n",
       "    </tr>\n",
       "    <tr>\n",
       "      <th>196</th>\n",
       "      <td>126</td>\n",
       "    </tr>\n",
       "    <tr>\n",
       "      <th>195</th>\n",
       "      <td>120</td>\n",
       "    </tr>\n",
       "    <tr>\n",
       "      <th>...</th>\n",
       "      <td>...</td>\n",
       "    </tr>\n",
       "    <tr>\n",
       "      <th>5</th>\n",
       "      <td>17</td>\n",
       "    </tr>\n",
       "    <tr>\n",
       "      <th>2</th>\n",
       "      <td>16</td>\n",
       "    </tr>\n",
       "    <tr>\n",
       "      <th>3</th>\n",
       "      <td>16</td>\n",
       "    </tr>\n",
       "    <tr>\n",
       "      <th>1</th>\n",
       "      <td>15</td>\n",
       "    </tr>\n",
       "    <tr>\n",
       "      <th>0</th>\n",
       "      <td>15</td>\n",
       "    </tr>\n",
       "  </tbody>\n",
       "</table>\n",
       "<p>200 rows × 1 columns</p>\n",
       "</div>"
      ],
      "text/plain": [
       "     Annual Income\n",
       "199            137\n",
       "198            137\n",
       "197            126\n",
       "196            126\n",
       "195            120\n",
       "..             ...\n",
       "5               17\n",
       "2               16\n",
       "3               16\n",
       "1               15\n",
       "0               15\n",
       "\n",
       "[200 rows x 1 columns]"
      ]
     },
     "execution_count": 51,
     "metadata": {},
     "output_type": "execute_result"
    }
   ],
   "source": [
    "annual_income=df[['Annual Income']]\n",
    "annual_income"
   ]
  },
  {
   "cell_type": "code",
   "execution_count": 52,
   "metadata": {},
   "outputs": [
    {
     "data": {
      "image/png": "[encoded data removed]",
      "text/plain": [
       "<Figure size 432x288 with 1 Axes>"
      ]
     },
     "metadata": {
      "needs_background": "light"
     },
     "output_type": "display_data"
    }
   ],
   "source": [
    "custom_bins = range(0, 141, 10)\n",
    "# plt.hist(annual_income,bins=custom_bins, edgecolor='black', color='skyblue')\n",
    "hist, bin_edges, _ = plt.hist(annual_income, bins=custom_bins)\n",
    "\n",
    "plt.xlabel('Annual Income')\n",
    "plt.ylabel('Frequency')\n",
    "plt.title('Histogram of Annual Income')\n",
    "plt.xticks(bin_edges)\n",
    "plt.yticks(hist)\n",
    "plt.grid(True)\n",
    "plt.show()"
   ]
  },
  {
   "cell_type": "code",
   "execution_count": 53,
   "metadata": {},
   "outputs": [],
   "source": [
    "# barchart is used to compare the values of a variable\n",
    "# at a given point in time"
   ]
  },
  {
   "cell_type": "code",
   "execution_count": 54,
   "metadata": {},
   "outputs": [
    {
     "data": {
      "image/png": "[encoded data removed]",
      "text/plain": [
       "<Figure size 432x288 with 1 Axes>"
      ]
     },
     "metadata": {
      "needs_background": "light"
     },
     "output_type": "display_data"
    }
   ],
   "source": [
    "gender_counts = df['Gender'].value_counts()\n",
    "\n",
    "# Create a bar chart\n",
    "plt.figure()  # Adjust the figure size if needed\n",
    "gender_counts.plot(kind='bar', color=['blue', 'pink'])\n",
    "# Create a bar chart using pyplot\n",
    "# plt.bar(gender_counts.index, gender_counts.values, color=['blue', 'pink'])\n",
    "# Add labels and title\n",
    "plt.xlabel('Gender')\n",
    "plt.ylabel('Number of Customers')\n",
    "plt.title('Number of Customers by Gender')\n",
    "\n",
    "# Show the chart\n",
    "plt.show()"
   ]
  },
  {
   "cell_type": "code",
   "execution_count": 55,
   "metadata": {},
   "outputs": [],
   "source": [
    "# pie chart is a circular statistical graphic divided into slices to illustrate\n",
    "# numerical prop"
   ]
  },
  {
   "cell_type": "code",
   "execution_count": 56,
   "metadata": {},
   "outputs": [
    {
     "data": {
      "text/plain": [
       "Text(0.5, 1.0, 'Gender Distribution in the Mall Customer Dataset')"
      ]
     },
     "execution_count": 56,
     "metadata": {},
     "output_type": "execute_result"
    },
    {
     "data": {
      "image/png": "[encoded data removed]",
      "text/plain": [
       "<Figure size 432x288 with 1 Axes>"
      ]
     },
     "metadata": {},
     "output_type": "display_data"
    }
   ],
   "source": [
    "plt.pie(gender_counts,labels=gender_counts.index,autopct='%1.1f%%',startangle=1)\n",
    "plt.title('Gender Distribution in the Mall Customer Dataset')\n",
    "# plt.axis('equal')"
   ]
  },
  {
   "cell_type": "code",
   "execution_count": 57,
   "metadata": {},
   "outputs": [],
   "source": [
    "# boxplot is a way of statistically representing the distribution of given data\n",
    "# through 5 dimensions\n",
    "# minimum,which is the smallest number in the sorted data\n",
    "# first quartile, which is the point 25% of the way through the sorted data\n",
    "# median of the sorted data\n",
    "# third quartile,which is the point 75% of the way through the sorted data\n",
    "# Maximum,which is the highest number in the sorted data"
   ]
  },
  {
   "cell_type": "code",
   "execution_count": 58,
   "metadata": {},
   "outputs": [
    {
     "data": {
      "text/plain": [
       "Text(0, 0.5, 'Values')"
      ]
     },
     "execution_count": 58,
     "metadata": {},
     "output_type": "execute_result"
    },
    {
     "data": {
      "image/png": "[encoded data removed]",
      "text/plain": [
       "<Figure size 432x288 with 1 Axes>"
      ]
     },
     "metadata": {
      "needs_background": "light"
     },
     "output_type": "display_data"
    }
   ],
   "source": [
    "plt.boxplot([df['Age'], df['Spending Score (1-100)']], labels=['Age', 'Spending Score'])\n",
    "plt.title('Box Plot of Age and Spending Score')\n",
    "plt.xlabel('Features')\n",
    "plt.ylabel('Values')"
   ]
  },
  {
   "cell_type": "code",
   "execution_count": 59,
   "metadata": {},
   "outputs": [],
   "source": [
    "# scatter plot is a type of plot that displays values pertaining\n",
    "# to typically 2 variables against each other\n",
    "# usually it is a dependent variable to be plotted against an\n",
    "# independent variable in order to determine if any\n",
    "# correlation bw the 2 variables exists"
   ]
  },
  {
   "cell_type": "code",
   "execution_count": 60,
   "metadata": {},
   "outputs": [
    {
     "data": {
      "text/plain": [
       "Text(0, 0.5, 'Spending Score')"
      ]
     },
     "execution_count": 60,
     "metadata": {},
     "output_type": "execute_result"
    },
    {
     "data": {
      "image/png": "[encoded data removed]",
      "text/plain": [
       "<Figure size 432x288 with 1 Axes>"
      ]
     },
     "metadata": {
      "needs_background": "light"
     },
     "output_type": "display_data"
    }
   ],
   "source": [
    "plt.scatter(df['Annual Income'], df['Spending Score (1-100)'], color='blue', alpha=0.5)\n",
    "plt.title('Scatter Plot of Annual Income vs Spending Score')\n",
    "plt.xlabel('Annual Income')\n",
    "plt.ylabel('Spending Score')"
   ]
  },
  {
   "cell_type": "code",
   "execution_count": 61,
   "metadata": {},
   "outputs": [],
   "source": [
    "# waffle chart is created to display progress toward goals\n",
    "# it is a way to visualiize data in relation to a whole"
   ]
  },
  {
   "cell_type": "code",
   "execution_count": 62,
   "metadata": {},
   "outputs": [],
   "source": [
    "# Seaborn and regression plots"
   ]
  },
  {
   "cell_type": "code",
   "execution_count": 63,
   "metadata": {},
   "outputs": [
    {
     "data": {
      "text/plain": [
       "Text(0.5, 1.0, 'Regression Plot: Age vs. Spending Score')"
      ]
     },
     "execution_count": 63,
     "metadata": {},
     "output_type": "execute_result"
    },
    {
     "data": {
      "image/png": "[encoded data removed]",
      "text/plain": [
       "<Figure size 432x288 with 1 Axes>"
      ]
     },
     "metadata": {
      "needs_background": "light"
     },
     "output_type": "display_data"
    }
   ],
   "source": [
    "import seaborn as sns\n",
    "# scatter plot with a linear regression line\n",
    "sns.regplot(x='Age', y='Spending Score (1-100)', data=df)\n",
    "plt.xlabel('Age')\n",
    "plt.ylabel('Spending Score')\n",
    "plt.title('Regression Plot: Age vs. Spending Score')"
   ]
  },
  {
   "cell_type": "code",
   "execution_count": 64,
   "metadata": {},
   "outputs": [
    {
     "data": {
      "text/plain": [
       "Text(0, 0.5, 'Annual Income')"
      ]
     },
     "execution_count": 64,
     "metadata": {},
     "output_type": "execute_result"
    },
    {
     "data": {
      "image/png": "[encoded data removed]",
      "text/plain": [
       "<Figure size 432x288 with 1 Axes>"
      ]
     },
     "metadata": {
      "needs_background": "light"
     },
     "output_type": "display_data"
    }
   ],
   "source": [
    "sns.lineplot(x='Age', y='Annual Income', data=df, ci=None)\n",
    "\n",
    "# Customize the plot\n",
    "plt.title('Area Plot of Age vs Annual Income')\n",
    "plt.xlabel('Age')\n",
    "plt.ylabel('Annual Income')"
   ]
  },
  {
   "cell_type": "code",
   "execution_count": 65,
   "metadata": {},
   "outputs": [
    {
     "data": {
      "text/plain": [
       "CustomerID                 int64\n",
       "Gender                    object\n",
       "Age                        int64\n",
       "Annual Income              int64\n",
       "Spending Score (1-100)     int64\n",
       "dtype: object"
      ]
     },
     "execution_count": 65,
     "metadata": {},
     "output_type": "execute_result"
    }
   ],
   "source": [
    "df.dtypes"
   ]
  },
  {
   "cell_type": "code",
   "execution_count": 66,
   "metadata": {},
   "outputs": [
    {
     "data": {
      "text/html": [
       "<div>\n",
       "<style scoped>\n",
       "    .dataframe tbody tr th:only-of-type {\n",
       "        vertical-align: middle;\n",
       "    }\n",
       "\n",
       "    .dataframe tbody tr th {\n",
       "        vertical-align: top;\n",
       "    }\n",
       "\n",
       "    .dataframe thead th {\n",
       "        text-align: right;\n",
       "    }\n",
       "</style>\n",
       "<table border=\"1\" class=\"dataframe\">\n",
       "  <thead>\n",
       "    <tr style=\"text-align: right;\">\n",
       "      <th></th>\n",
       "      <th>CustomerID</th>\n",
       "      <th>Gender</th>\n",
       "      <th>Age</th>\n",
       "      <th>Annual Income</th>\n",
       "      <th>Spending Score (1-100)</th>\n",
       "    </tr>\n",
       "  </thead>\n",
       "  <tbody>\n",
       "    <tr>\n",
       "      <th>count</th>\n",
       "      <td>200.000000</td>\n",
       "      <td>200</td>\n",
       "      <td>200.000000</td>\n",
       "      <td>200.000000</td>\n",
       "      <td>200.000000</td>\n",
       "    </tr>\n",
       "    <tr>\n",
       "      <th>unique</th>\n",
       "      <td>NaN</td>\n",
       "      <td>2</td>\n",
       "      <td>NaN</td>\n",
       "      <td>NaN</td>\n",
       "      <td>NaN</td>\n",
       "    </tr>\n",
       "    <tr>\n",
       "      <th>top</th>\n",
       "      <td>NaN</td>\n",
       "      <td>Female</td>\n",
       "      <td>NaN</td>\n",
       "      <td>NaN</td>\n",
       "      <td>NaN</td>\n",
       "    </tr>\n",
       "    <tr>\n",
       "      <th>freq</th>\n",
       "      <td>NaN</td>\n",
       "      <td>112</td>\n",
       "      <td>NaN</td>\n",
       "      <td>NaN</td>\n",
       "      <td>NaN</td>\n",
       "    </tr>\n",
       "    <tr>\n",
       "      <th>mean</th>\n",
       "      <td>100.500000</td>\n",
       "      <td>NaN</td>\n",
       "      <td>38.850000</td>\n",
       "      <td>60.560000</td>\n",
       "      <td>50.200000</td>\n",
       "    </tr>\n",
       "    <tr>\n",
       "      <th>std</th>\n",
       "      <td>57.879185</td>\n",
       "      <td>NaN</td>\n",
       "      <td>13.969007</td>\n",
       "      <td>26.264721</td>\n",
       "      <td>25.823522</td>\n",
       "    </tr>\n",
       "    <tr>\n",
       "      <th>min</th>\n",
       "      <td>1.000000</td>\n",
       "      <td>NaN</td>\n",
       "      <td>18.000000</td>\n",
       "      <td>15.000000</td>\n",
       "      <td>1.000000</td>\n",
       "    </tr>\n",
       "    <tr>\n",
       "      <th>25%</th>\n",
       "      <td>50.750000</td>\n",
       "      <td>NaN</td>\n",
       "      <td>28.750000</td>\n",
       "      <td>41.500000</td>\n",
       "      <td>34.750000</td>\n",
       "    </tr>\n",
       "    <tr>\n",
       "      <th>50%</th>\n",
       "      <td>100.500000</td>\n",
       "      <td>NaN</td>\n",
       "      <td>36.000000</td>\n",
       "      <td>61.500000</td>\n",
       "      <td>50.000000</td>\n",
       "    </tr>\n",
       "    <tr>\n",
       "      <th>75%</th>\n",
       "      <td>150.250000</td>\n",
       "      <td>NaN</td>\n",
       "      <td>49.000000</td>\n",
       "      <td>78.000000</td>\n",
       "      <td>73.000000</td>\n",
       "    </tr>\n",
       "    <tr>\n",
       "      <th>max</th>\n",
       "      <td>200.000000</td>\n",
       "      <td>NaN</td>\n",
       "      <td>70.000000</td>\n",
       "      <td>137.000000</td>\n",
       "      <td>99.000000</td>\n",
       "    </tr>\n",
       "  </tbody>\n",
       "</table>\n",
       "</div>"
      ],
      "text/plain": [
       "        CustomerID  Gender         Age  Annual Income  Spending Score (1-100)\n",
       "count   200.000000     200  200.000000     200.000000              200.000000\n",
       "unique         NaN       2         NaN            NaN                     NaN\n",
       "top            NaN  Female         NaN            NaN                     NaN\n",
       "freq           NaN     112         NaN            NaN                     NaN\n",
       "mean    100.500000     NaN   38.850000      60.560000               50.200000\n",
       "std      57.879185     NaN   13.969007      26.264721               25.823522\n",
       "min       1.000000     NaN   18.000000      15.000000                1.000000\n",
       "25%      50.750000     NaN   28.750000      41.500000               34.750000\n",
       "50%     100.500000     NaN   36.000000      61.500000               50.000000\n",
       "75%     150.250000     NaN   49.000000      78.000000               73.000000\n",
       "max     200.000000     NaN   70.000000     137.000000               99.000000"
      ]
     },
     "execution_count": 66,
     "metadata": {},
     "output_type": "execute_result"
    }
   ],
   "source": [
    "df.describe(include='all')"
   ]
  },
  {
   "cell_type": "code",
   "execution_count": 67,
   "metadata": {},
   "outputs": [],
   "source": [
    "# data preprocessing\n",
    "# the process of converting or mapping data from the initial raw form into another format in order to prepare the data for further analysis\n",
    "# also known as data cleaning , data wrangling\n",
    "# identify and handle missing values\n",
    "# data formatting\n",
    "# data normalization(centering/scaling)\n",
    "# data binning\n",
    "# turning categorical values to numeric variables"
   ]
  },
  {
   "cell_type": "code",
   "execution_count": 68,
   "metadata": {},
   "outputs": [],
   "source": [
    "# deal with missing data\n",
    "# drop the missing values\n",
    "#   either drop the variable\n",
    "#   or drop the data entry\n",
    "# replace the missing values\n",
    "#   replace it with an average(of similar datapoints)\n",
    "#   replace it with frequency\n",
    "#   replace it based on other functions\n",
    "# leave it as missing data"
   ]
  },
  {
   "cell_type": "code",
   "execution_count": 69,
   "metadata": {},
   "outputs": [
    {
     "data": {
      "text/html": [
       "<div>\n",
       "<style scoped>\n",
       "    .dataframe tbody tr th:only-of-type {\n",
       "        vertical-align: middle;\n",
       "    }\n",
       "\n",
       "    .dataframe tbody tr th {\n",
       "        vertical-align: top;\n",
       "    }\n",
       "\n",
       "    .dataframe thead th {\n",
       "        text-align: right;\n",
       "    }\n",
       "</style>\n",
       "<table border=\"1\" class=\"dataframe\">\n",
       "  <thead>\n",
       "    <tr style=\"text-align: right;\">\n",
       "      <th></th>\n",
       "      <th>CustomerID</th>\n",
       "      <th>Gender</th>\n",
       "      <th>Age</th>\n",
       "      <th>Annual Income</th>\n",
       "      <th>Spending Score (1-100)</th>\n",
       "    </tr>\n",
       "  </thead>\n",
       "  <tbody>\n",
       "    <tr>\n",
       "      <th>199</th>\n",
       "      <td>200</td>\n",
       "      <td>Male</td>\n",
       "      <td>30</td>\n",
       "      <td>137</td>\n",
       "      <td>83</td>\n",
       "    </tr>\n",
       "    <tr>\n",
       "      <th>198</th>\n",
       "      <td>199</td>\n",
       "      <td>Male</td>\n",
       "      <td>32</td>\n",
       "      <td>137</td>\n",
       "      <td>18</td>\n",
       "    </tr>\n",
       "    <tr>\n",
       "      <th>197</th>\n",
       "      <td>198</td>\n",
       "      <td>Male</td>\n",
       "      <td>32</td>\n",
       "      <td>126</td>\n",
       "      <td>74</td>\n",
       "    </tr>\n",
       "    <tr>\n",
       "      <th>196</th>\n",
       "      <td>197</td>\n",
       "      <td>Female</td>\n",
       "      <td>45</td>\n",
       "      <td>126</td>\n",
       "      <td>28</td>\n",
       "    </tr>\n",
       "    <tr>\n",
       "      <th>195</th>\n",
       "      <td>196</td>\n",
       "      <td>Female</td>\n",
       "      <td>35</td>\n",
       "      <td>120</td>\n",
       "      <td>79</td>\n",
       "    </tr>\n",
       "    <tr>\n",
       "      <th>...</th>\n",
       "      <td>...</td>\n",
       "      <td>...</td>\n",
       "      <td>...</td>\n",
       "      <td>...</td>\n",
       "      <td>...</td>\n",
       "    </tr>\n",
       "    <tr>\n",
       "      <th>5</th>\n",
       "      <td>6</td>\n",
       "      <td>Female</td>\n",
       "      <td>22</td>\n",
       "      <td>17</td>\n",
       "      <td>76</td>\n",
       "    </tr>\n",
       "    <tr>\n",
       "      <th>2</th>\n",
       "      <td>3</td>\n",
       "      <td>Female</td>\n",
       "      <td>20</td>\n",
       "      <td>16</td>\n",
       "      <td>6</td>\n",
       "    </tr>\n",
       "    <tr>\n",
       "      <th>3</th>\n",
       "      <td>4</td>\n",
       "      <td>Female</td>\n",
       "      <td>23</td>\n",
       "      <td>16</td>\n",
       "      <td>77</td>\n",
       "    </tr>\n",
       "    <tr>\n",
       "      <th>1</th>\n",
       "      <td>2</td>\n",
       "      <td>Male</td>\n",
       "      <td>21</td>\n",
       "      <td>15</td>\n",
       "      <td>81</td>\n",
       "    </tr>\n",
       "    <tr>\n",
       "      <th>0</th>\n",
       "      <td>1</td>\n",
       "      <td>Male</td>\n",
       "      <td>19</td>\n",
       "      <td>15</td>\n",
       "      <td>39</td>\n",
       "    </tr>\n",
       "  </tbody>\n",
       "</table>\n",
       "<p>200 rows × 5 columns</p>\n",
       "</div>"
      ],
      "text/plain": [
       "     CustomerID  Gender  Age  Annual Income  Spending Score (1-100)\n",
       "199         200    Male   30            137                      83\n",
       "198         199    Male   32            137                      18\n",
       "197         198    Male   32            126                      74\n",
       "196         197  Female   45            126                      28\n",
       "195         196  Female   35            120                      79\n",
       "..          ...     ...  ...            ...                     ...\n",
       "5             6  Female   22             17                      76\n",
       "2             3  Female   20             16                       6\n",
       "3             4  Female   23             16                      77\n",
       "1             2    Male   21             15                      81\n",
       "0             1    Male   19             15                      39\n",
       "\n",
       "[200 rows x 5 columns]"
      ]
     },
     "execution_count": 69,
     "metadata": {},
     "output_type": "execute_result"
    }
   ],
   "source": [
    "# drop missing values\n",
    "# axis =0 to drop the rows\n",
    "# axis =1 to drop the column that contains the missing values\n",
    "\n",
    "# inplace=True allows the modification to be done on the dataset directly \n",
    "# df.dropna(subset=['price'],axis=0,inplace=True)\n",
    "\n",
    "df.dropna()"
   ]
  },
  {
   "cell_type": "code",
   "execution_count": 70,
   "metadata": {},
   "outputs": [],
   "source": [
    "# replace missing values\n",
    "# missing values like NaN\n",
    "# df.replace(missing_value,new_value)\n",
    "\n",
    "# import numpy as np\n",
    "# mean =df['age'].mean()\n",
    "# df['age'].replace(np.nan,mean)\n"
   ]
  },
  {
   "cell_type": "code",
   "execution_count": 71,
   "metadata": {},
   "outputs": [],
   "source": [
    "# methods of normalizing data\n",
    "# *simple feature scaling [x new = x old/x max]\n",
    "# *min-max [x new = (x old - x min)/(x max - x min)]\n",
    "# *z-score [(x old - Mu)/sigma]"
   ]
  },
  {
   "cell_type": "code",
   "execution_count": 72,
   "metadata": {},
   "outputs": [],
   "source": [
    "# binning\n",
    "# grouping of values into bins\n",
    "# converts numeric into categorical variables\n",
    "# group a set of numerical values into a set of bins"
   ]
  },
  {
   "cell_type": "code",
   "execution_count": 73,
   "metadata": {},
   "outputs": [],
   "source": [
    "# turn categorical variables into quantitative variables\n",
    "# pd.get_dummies() method gets the fuel-type column and creates the\n",
    "# dataframe\"dummy_variable_1\".\n",
    "# The get_dummies() method automatically generates a list of numbers, each one corresponding\n",
    "# to a particular category of the variable."
   ]
  },
  {
   "cell_type": "code",
   "execution_count": 74,
   "metadata": {},
   "outputs": [],
   "source": [
    "# Exploratory Data Analysis, or in short “EDA”, is an approach to analyze data in order to:\n",
    "# - summarize main characteristics of the data - gain better understanding of the dataset\n",
    "# uncover relationships between different variables, and\n",
    "# - extract important variables for the problem we are trying to solve.\n",
    "\n",
    "# descriptive statistics\n",
    "# When you begin to analyze data, it’s important to first explore your data before you spend\n",
    "# time building complicated models. One easy way to do so is to calculate some\n",
    "# descriptive statistics for your data. Descriptive statistical analysis helps to\n",
    "# describe basic features of a dataset and obtains a short summary about the sample and measures of the data"
   ]
  },
  {
   "cell_type": "code",
   "execution_count": 75,
   "metadata": {},
   "outputs": [],
   "source": [
    "# one way is to summarize statistic using pandas describe()method\n",
    "# df.describe()"
   ]
  },
  {
   "cell_type": "code",
   "execution_count": 76,
   "metadata": {},
   "outputs": [
    {
     "data": {
      "text/plain": [
       "32    11\n",
       "35     9\n",
       "19     8\n",
       "31     8\n",
       "30     7\n",
       "49     7\n",
       "27     6\n",
       "47     6\n",
       "38     6\n",
       "23     6\n",
       "36     6\n",
       "40     6\n",
       "20     5\n",
       "50     5\n",
       "21     5\n",
       "48     5\n",
       "29     5\n",
       "34     5\n",
       "59     4\n",
       "67     4\n",
       "18     4\n",
       "54     4\n",
       "28     4\n",
       "24     4\n",
       "68     3\n",
       "22     3\n",
       "60     3\n",
       "25     3\n",
       "43     3\n",
       "39     3\n",
       "46     3\n",
       "45     3\n",
       "33     3\n",
       "37     3\n",
       "63     2\n",
       "26     2\n",
       "53     2\n",
       "70     2\n",
       "44     2\n",
       "41     2\n",
       "42     2\n",
       "51     2\n",
       "57     2\n",
       "52     2\n",
       "66     2\n",
       "65     2\n",
       "58     2\n",
       "56     1\n",
       "55     1\n",
       "69     1\n",
       "64     1\n",
       "Name: Age, dtype: int64"
      ]
     },
     "execution_count": 76,
     "metadata": {},
     "output_type": "execute_result"
    }
   ],
   "source": [
    "#summarize the categorical data by using the value_counts() method\n",
    "age_count=df['Age'].value_counts()\n",
    "age_count"
   ]
  },
  {
   "cell_type": "code",
   "execution_count": 77,
   "metadata": {},
   "outputs": [
    {
     "data": {
      "text/plain": [
       "Female    112\n",
       "Male       88\n",
       "Name: Gender, dtype: int64"
      ]
     },
     "execution_count": 77,
     "metadata": {},
     "output_type": "execute_result"
    }
   ],
   "source": [
    "gender_count=df['Gender'].value_counts()\n",
    "gender_count"
   ]
  },
  {
   "cell_type": "code",
   "execution_count": 78,
   "metadata": {},
   "outputs": [],
   "source": [
    "# boxplots are a great way to visualize numeric data\n",
    "# since you can visualize various distributions of the data"
   ]
  },
  {
   "cell_type": "code",
   "execution_count": 79,
   "metadata": {},
   "outputs": [],
   "source": [
    "# group by method is used on categorical variables\n",
    "# groups the data into subsets according to the different\n",
    "# categories of that variable\n",
    "# group by a single or multiple variables"
   ]
  },
  {
   "cell_type": "code",
   "execution_count": 80,
   "metadata": {},
   "outputs": [
    {
     "data": {
      "text/html": [
       "<div>\n",
       "<style scoped>\n",
       "    .dataframe tbody tr th:only-of-type {\n",
       "        vertical-align: middle;\n",
       "    }\n",
       "\n",
       "    .dataframe tbody tr th {\n",
       "        vertical-align: top;\n",
       "    }\n",
       "\n",
       "    .dataframe thead th {\n",
       "        text-align: right;\n",
       "    }\n",
       "</style>\n",
       "<table border=\"1\" class=\"dataframe\">\n",
       "  <thead>\n",
       "    <tr style=\"text-align: right;\">\n",
       "      <th></th>\n",
       "      <th>Gender</th>\n",
       "      <th>Age</th>\n",
       "      <th>Annual Income</th>\n",
       "      <th>Spending Score (1-100)</th>\n",
       "    </tr>\n",
       "  </thead>\n",
       "  <tbody>\n",
       "    <tr>\n",
       "      <th>199</th>\n",
       "      <td>Male</td>\n",
       "      <td>30</td>\n",
       "      <td>137</td>\n",
       "      <td>83</td>\n",
       "    </tr>\n",
       "    <tr>\n",
       "      <th>198</th>\n",
       "      <td>Male</td>\n",
       "      <td>32</td>\n",
       "      <td>137</td>\n",
       "      <td>18</td>\n",
       "    </tr>\n",
       "    <tr>\n",
       "      <th>197</th>\n",
       "      <td>Male</td>\n",
       "      <td>32</td>\n",
       "      <td>126</td>\n",
       "      <td>74</td>\n",
       "    </tr>\n",
       "    <tr>\n",
       "      <th>196</th>\n",
       "      <td>Female</td>\n",
       "      <td>45</td>\n",
       "      <td>126</td>\n",
       "      <td>28</td>\n",
       "    </tr>\n",
       "    <tr>\n",
       "      <th>195</th>\n",
       "      <td>Female</td>\n",
       "      <td>35</td>\n",
       "      <td>120</td>\n",
       "      <td>79</td>\n",
       "    </tr>\n",
       "    <tr>\n",
       "      <th>...</th>\n",
       "      <td>...</td>\n",
       "      <td>...</td>\n",
       "      <td>...</td>\n",
       "      <td>...</td>\n",
       "    </tr>\n",
       "    <tr>\n",
       "      <th>5</th>\n",
       "      <td>Female</td>\n",
       "      <td>22</td>\n",
       "      <td>17</td>\n",
       "      <td>76</td>\n",
       "    </tr>\n",
       "    <tr>\n",
       "      <th>2</th>\n",
       "      <td>Female</td>\n",
       "      <td>20</td>\n",
       "      <td>16</td>\n",
       "      <td>6</td>\n",
       "    </tr>\n",
       "    <tr>\n",
       "      <th>3</th>\n",
       "      <td>Female</td>\n",
       "      <td>23</td>\n",
       "      <td>16</td>\n",
       "      <td>77</td>\n",
       "    </tr>\n",
       "    <tr>\n",
       "      <th>1</th>\n",
       "      <td>Male</td>\n",
       "      <td>21</td>\n",
       "      <td>15</td>\n",
       "      <td>81</td>\n",
       "    </tr>\n",
       "    <tr>\n",
       "      <th>0</th>\n",
       "      <td>Male</td>\n",
       "      <td>19</td>\n",
       "      <td>15</td>\n",
       "      <td>39</td>\n",
       "    </tr>\n",
       "  </tbody>\n",
       "</table>\n",
       "<p>200 rows × 4 columns</p>\n",
       "</div>"
      ],
      "text/plain": [
       "     Gender  Age  Annual Income  Spending Score (1-100)\n",
       "199    Male   30            137                      83\n",
       "198    Male   32            137                      18\n",
       "197    Male   32            126                      74\n",
       "196  Female   45            126                      28\n",
       "195  Female   35            120                      79\n",
       "..      ...  ...            ...                     ...\n",
       "5    Female   22             17                      76\n",
       "2    Female   20             16                       6\n",
       "3    Female   23             16                      77\n",
       "1      Male   21             15                      81\n",
       "0      Male   19             15                      39\n",
       "\n",
       "[200 rows x 4 columns]"
      ]
     },
     "execution_count": 80,
     "metadata": {},
     "output_type": "execute_result"
    }
   ],
   "source": [
    "df_test=df[['Gender','Age','Annual Income','Spending Score (1-100)']]\n",
    "df_test"
   ]
  },
  {
   "cell_type": "code",
   "execution_count": 81,
   "metadata": {},
   "outputs": [
    {
     "data": {
      "text/html": [
       "<div>\n",
       "<style scoped>\n",
       "    .dataframe tbody tr th:only-of-type {\n",
       "        vertical-align: middle;\n",
       "    }\n",
       "\n",
       "    .dataframe tbody tr th {\n",
       "        vertical-align: top;\n",
       "    }\n",
       "\n",
       "    .dataframe thead th {\n",
       "        text-align: right;\n",
       "    }\n",
       "</style>\n",
       "<table border=\"1\" class=\"dataframe\">\n",
       "  <thead>\n",
       "    <tr style=\"text-align: right;\">\n",
       "      <th></th>\n",
       "      <th>Gender</th>\n",
       "      <th>Age</th>\n",
       "      <th>Annual Income</th>\n",
       "      <th>Spending Score (1-100)</th>\n",
       "    </tr>\n",
       "  </thead>\n",
       "  <tbody>\n",
       "    <tr>\n",
       "      <th>0</th>\n",
       "      <td>Female</td>\n",
       "      <td>38.098214</td>\n",
       "      <td>59.250000</td>\n",
       "      <td>51.526786</td>\n",
       "    </tr>\n",
       "    <tr>\n",
       "      <th>1</th>\n",
       "      <td>Male</td>\n",
       "      <td>39.806818</td>\n",
       "      <td>62.227273</td>\n",
       "      <td>48.511364</td>\n",
       "    </tr>\n",
       "  </tbody>\n",
       "</table>\n",
       "</div>"
      ],
      "text/plain": [
       "   Gender        Age  Annual Income  Spending Score (1-100)\n",
       "0  Female  38.098214      59.250000               51.526786\n",
       "1    Male  39.806818      62.227273               48.511364"
      ]
     },
     "execution_count": 81,
     "metadata": {},
     "output_type": "execute_result"
    }
   ],
   "source": [
    "df_grp=df_test.groupby(['Gender'],as_index=False).mean()\n",
    "df_grp"
   ]
  },
  {
   "cell_type": "code",
   "execution_count": 82,
   "metadata": {},
   "outputs": [],
   "source": [
    "# df_pivot=df_grp.pivot(index='Gender',columns='')\n",
    "# df_pivot"
   ]
  },
  {
   "cell_type": "code",
   "execution_count": 83,
   "metadata": {},
   "outputs": [],
   "source": [
    "# another way to represent the pivot table is using the heatmap plot\n",
    "# heatmap takes a rectangular grid and assigns a color intensity"
   ]
  },
  {
   "cell_type": "code",
   "execution_count": 84,
   "metadata": {},
   "outputs": [],
   "source": [
    "# plt.pcolor(df_grp,cmap='RdBu')\n",
    "# plt.colorbar()"
   ]
  },
  {
   "cell_type": "code",
   "execution_count": 85,
   "metadata": {},
   "outputs": [
    {
     "data": {
      "text/html": [
       "<div>\n",
       "<style scoped>\n",
       "    .dataframe tbody tr th:only-of-type {\n",
       "        vertical-align: middle;\n",
       "    }\n",
       "\n",
       "    .dataframe tbody tr th {\n",
       "        vertical-align: top;\n",
       "    }\n",
       "\n",
       "    .dataframe thead th {\n",
       "        text-align: right;\n",
       "    }\n",
       "</style>\n",
       "<table border=\"1\" class=\"dataframe\">\n",
       "  <thead>\n",
       "    <tr style=\"text-align: right;\">\n",
       "      <th></th>\n",
       "      <th>CustomerID</th>\n",
       "      <th>Age</th>\n",
       "      <th>Annual Income</th>\n",
       "      <th>Spending Score (1-100)</th>\n",
       "    </tr>\n",
       "  </thead>\n",
       "  <tbody>\n",
       "    <tr>\n",
       "      <th>CustomerID</th>\n",
       "      <td>1.000000</td>\n",
       "      <td>-0.026763</td>\n",
       "      <td>0.977548</td>\n",
       "      <td>0.013835</td>\n",
       "    </tr>\n",
       "    <tr>\n",
       "      <th>Age</th>\n",
       "      <td>-0.026763</td>\n",
       "      <td>1.000000</td>\n",
       "      <td>-0.012398</td>\n",
       "      <td>-0.327227</td>\n",
       "    </tr>\n",
       "    <tr>\n",
       "      <th>Annual Income</th>\n",
       "      <td>0.977548</td>\n",
       "      <td>-0.012398</td>\n",
       "      <td>1.000000</td>\n",
       "      <td>0.009903</td>\n",
       "    </tr>\n",
       "    <tr>\n",
       "      <th>Spending Score (1-100)</th>\n",
       "      <td>0.013835</td>\n",
       "      <td>-0.327227</td>\n",
       "      <td>0.009903</td>\n",
       "      <td>1.000000</td>\n",
       "    </tr>\n",
       "  </tbody>\n",
       "</table>\n",
       "</div>"
      ],
      "text/plain": [
       "                        CustomerID       Age  Annual Income  \\\n",
       "CustomerID                1.000000 -0.026763       0.977548   \n",
       "Age                      -0.026763  1.000000      -0.012398   \n",
       "Annual Income             0.977548 -0.012398       1.000000   \n",
       "Spending Score (1-100)    0.013835 -0.327227       0.009903   \n",
       "\n",
       "                        Spending Score (1-100)  \n",
       "CustomerID                            0.013835  \n",
       "Age                                  -0.327227  \n",
       "Annual Income                         0.009903  \n",
       "Spending Score (1-100)                1.000000  "
      ]
     },
     "execution_count": 85,
     "metadata": {},
     "output_type": "execute_result"
    }
   ],
   "source": [
    "corr_matrix=df.corr()\n",
    "corr_matrix"
   ]
  },
  {
   "cell_type": "code",
   "execution_count": 86,
   "metadata": {},
   "outputs": [
    {
     "data": {
      "image/png": "[encoded data removed]",
      "text/plain": [
       "<Figure size 720x576 with 2 Axes>"
      ]
     },
     "metadata": {
      "needs_background": "light"
     },
     "output_type": "display_data"
    }
   ],
   "source": [
    "plt.figure(figsize=(10, 8))\n",
    "sns.heatmap(corr_matrix, annot=True, cmap=\"coolwarm\", linewidths=.5)\n",
    "plt.title(\"Correlation Heatmap\")\n",
    "plt.show()"
   ]
  },
  {
   "cell_type": "code",
   "execution_count": 87,
   "metadata": {},
   "outputs": [],
   "source": [
    "from scipy import stats"
   ]
  },
  {
   "cell_type": "code",
   "execution_count": 88,
   "metadata": {},
   "outputs": [
    {
     "data": {
      "text/plain": [
       "F_onewayResult(statistic=8.711749912600228, pvalue=0.013172423132837553)"
      ]
     },
     "execution_count": 88,
     "metadata": {},
     "output_type": "execute_result"
    }
   ],
   "source": [
    "df_anova=df[[\"Age\",\"Spending Score (1-100)\"]]\n",
    "grouped_anova=df_anova.groupby([\"Age\"])\n",
    "anova_results_1=stats.f_oneway(grouped_anova.get_group(30)[\"Spending Score (1-100)\"],grouped_anova.get_group(40)[\"Spending Score (1-100)\"])\n",
    "anova_results_1"
   ]
  },
  {
   "cell_type": "code",
   "execution_count": 89,
   "metadata": {},
   "outputs": [
    {
     "data": {
      "text/plain": [
       "200"
      ]
     },
     "execution_count": 89,
     "metadata": {},
     "output_type": "execute_result"
    }
   ],
   "source": [
    "len(df['Age'])"
   ]
  },
  {
   "cell_type": "code",
   "execution_count": 90,
   "metadata": {},
   "outputs": [
    {
     "data": {
      "text/plain": [
       "1"
      ]
     },
     "execution_count": 90,
     "metadata": {},
     "output_type": "execute_result"
    }
   ],
   "source": [
    "len([df['Annual Income']])"
   ]
  },
  {
   "cell_type": "code",
   "execution_count": 91,
   "metadata": {},
   "outputs": [
    {
     "data": {
      "text/plain": [
       "200"
      ]
     },
     "execution_count": 91,
     "metadata": {},
     "output_type": "execute_result"
    }
   ],
   "source": [
    "len(df['Spending Score (1-100)'])"
   ]
  },
  {
   "cell_type": "code",
   "execution_count": 92,
   "metadata": {},
   "outputs": [],
   "source": [
    "import seaborn as sns"
   ]
  },
  {
   "cell_type": "code",
   "execution_count": 93,
   "metadata": {},
   "outputs": [],
   "source": [
    "# correlation can be positive linear and negative linear relationship"
   ]
  },
  {
   "cell_type": "code",
   "execution_count": 94,
   "metadata": {},
   "outputs": [
    {
     "data": {
      "text/plain": [
       "(0.0, 103.9)"
      ]
     },
     "execution_count": 94,
     "metadata": {},
     "output_type": "execute_result"
    },
    {
     "data": {
      "image/png": "[encoded data removed]",
      "text/plain": [
       "<Figure size 432x288 with 1 Axes>"
      ]
     },
     "metadata": {
      "needs_background": "light"
     },
     "output_type": "display_data"
    }
   ],
   "source": [
    "sns.regplot(x='Age',y=\"Spending Score (1-100)\",data=df)\n",
    "plt.ylim(0,)"
   ]
  },
  {
   "cell_type": "code",
   "execution_count": 95,
   "metadata": {},
   "outputs": [],
   "source": [
    "from scipy import stats"
   ]
  },
  {
   "cell_type": "code",
   "execution_count": 96,
   "metadata": {},
   "outputs": [],
   "source": [
    "# corelation statistics\n",
    "# pearson corelation\n",
    "# measure the strength of the corelation bw 2 feature\n",
    "# it gives 2 values \n",
    "# corelation coeficent\n",
    "# p value\n",
    "\n",
    "# for corelation coeficent \n",
    "#  value close to +1:large positive relationship\n",
    "#  value close to -1:large negative relationship\n",
    "#  value close to 0:no relationship\n",
    "    \n",
    "# for p value\n",
    "# p value<0.001 strong certainity\n",
    "# p value<0.05 moderate certainity\n",
    "# p value<0.1 weak certainity\n",
    "# p value>0.1 no certainity in result\n",
    "\n",
    "# Strong corelation:\n",
    "#     corelation coeficent close to 1 or -1\n",
    "#     pvalue less than 0.001"
   ]
  },
  {
   "cell_type": "code",
   "execution_count": 97,
   "metadata": {},
   "outputs": [
    {
     "name": "stdout",
     "output_type": "stream",
     "text": [
      "0.009902848094037615 0.8893134370274359\n"
     ]
    }
   ],
   "source": [
    "pearson_coef,p_value=stats.pearsonr(df[\"Annual Income\"],df[\"Spending Score (1-100)\"])\n",
    "print(pearson_coef,p_value)"
   ]
  },
  {
   "cell_type": "code",
   "execution_count": 98,
   "metadata": {},
   "outputs": [],
   "source": [
    "# Fitting a simple linear model estimator\n",
    "# x:predictor varibale\n",
    "# y:target variable"
   ]
  },
  {
   "cell_type": "code",
   "execution_count": 99,
   "metadata": {},
   "outputs": [],
   "source": [
    "# import linear_model from scikit-learn\n",
    "from sklearn.linear_model import LinearRegression"
   ]
  },
  {
   "cell_type": "code",
   "execution_count": 100,
   "metadata": {},
   "outputs": [],
   "source": [
    "# create a linear regression object using the constructor\n",
    "lm=LinearRegression()"
   ]
  },
  {
   "cell_type": "code",
   "execution_count": 101,
   "metadata": {},
   "outputs": [],
   "source": [
    "# we define the predictor and target variable\n",
    "X=df[[\"Age\"]]\n",
    "Y=df['Spending Score (1-100)']"
   ]
  },
  {
   "cell_type": "code",
   "execution_count": 102,
   "metadata": {},
   "outputs": [
    {
     "data": {
      "text/plain": [
       "LinearRegression()"
      ]
     },
     "execution_count": 102,
     "metadata": {},
     "output_type": "execute_result"
    }
   ],
   "source": [
    "# then use lm.fit(X,Y) to fit the model ,and find the parameters b0 and b1\n",
    "lm.fit(X,Y)"
   ]
  },
  {
   "cell_type": "code",
   "execution_count": 103,
   "metadata": {},
   "outputs": [
    {
     "data": {
      "text/plain": [
       "array([55.55355317, 54.34371065, 54.34371065, 46.47973424, 52.52894686,\n",
       "       45.26989171, 50.71418307, 53.73878938, 53.13386812, 51.9240256 ,\n",
       "       48.89941929, 54.34371065, 56.7633957 , 41.03544287, 55.55355317,\n",
       "       48.89941929, 56.15847443, 45.87481297, 54.34371065, 51.31910434,\n",
       "       52.52894686, 38.01083656, 55.55355317, 42.2452854 , 57.36831696,\n",
       "       38.61575783, 51.9240256 , 51.9240256 , 56.7633957 , 49.50434055,\n",
       "       54.34371065, 51.9240256 , 53.73878938, 48.29449802, 43.45512792,\n",
       "       51.9240256 , 54.94863191, 62.20768706, 56.15847443, 39.82560035,\n",
       "       45.26989171, 53.13386812, 53.13386812, 47.68957676, 47.0846555 ,\n",
       "       50.71418307, 50.10926181, 57.36831696, 51.31910434, 55.55355317,\n",
       "       53.13386812, 55.55355317, 54.34371065, 44.66497045, 56.7633957 ,\n",
       "       58.57815948, 54.34371065, 56.7633957 , 39.22067909, 54.34371065,\n",
       "       52.52894686, 62.20768706, 54.34371065, 47.0846555 , 56.15847443,\n",
       "       61.6027658 , 54.94863191, 58.57815948, 50.71418307, 47.68957676,\n",
       "       38.01083656, 49.50434055, 45.26989171, 50.10926181, 54.94863191,\n",
       "       59.78800201, 50.10926181, 49.50434055, 50.71418307, 57.36831696,\n",
       "       43.45512792, 42.85020666, 35.59115151, 62.81260832, 62.20768706,\n",
       "       44.06004919, 62.20768706, 50.71418307, 62.20768706, 34.38130899,\n",
       "       33.77638773, 32.5665452 , 41.03544287, 33.77638773, 44.06004919,\n",
       "       60.99784453, 44.06004919, 57.97323822, 33.17146646, 59.78800201,\n",
       "       44.66497045, 61.6027658 , 57.36831696, 45.26989171, 59.18308075,\n",
       "       54.34371065, 49.50434055, 44.66497045, 32.5665452 , 62.81260832,\n",
       "       43.45512792, 53.13386812, 60.39292327, 40.43052161, 57.97323822,\n",
       "       59.78800201, 46.47973424, 38.01083656, 39.22067909, 44.06004919,\n",
       "       49.50434055, 50.71418307, 33.17146646, 45.87481297, 60.99784453,\n",
       "       44.66497045, 37.4059153 , 37.4059153 , 45.26989171, 31.35670268,\n",
       "       35.59115151, 62.81260832, 47.68957676, 32.5665452 , 62.20768706,\n",
       "       54.34371065, 41.03544287, 33.17146646, 62.20768706, 31.35670268,\n",
       "       41.64036414, 57.36831696, 31.96162394, 42.85020666, 43.45512792,\n",
       "       38.01083656, 54.94863191, 45.26989171, 44.06004919, 53.73878938,\n",
       "       54.94863191, 56.15847443, 57.36831696, 43.45512792, 59.18308075,\n",
       "       44.06004919, 54.94863191, 44.66497045, 59.18308075, 34.38130899,\n",
       "       61.6027658 , 51.9240256 , 55.55355317, 48.29449802, 60.99784453,\n",
       "       44.06004919, 62.81260832, 41.64036414, 60.99784453, 37.4059153 ,\n",
       "       59.78800201, 49.50434055, 56.15847443, 41.03544287, 46.47973424,\n",
       "       52.52894686, 45.87481297, 54.94863191, 58.57815948, 52.52894686,\n",
       "       52.52894686, 42.2452854 , 61.6027658 , 52.52894686, 51.31910434,\n",
       "       59.18308075, 38.61575783, 60.39292327, 52.52894686, 33.17146646,\n",
       "       55.55355317, 34.98623025, 52.52894686, 59.78800201, 54.94863191,\n",
       "       60.39292327, 61.6027658 , 59.78800201, 60.99784453, 62.20768706])"
      ]
     },
     "execution_count": 103,
     "metadata": {},
     "output_type": "execute_result"
    }
   ],
   "source": [
    "# we can obtain a prediction\n",
    "Yhat=lm.predict(X)\n",
    "Yhat"
   ]
  },
  {
   "cell_type": "code",
   "execution_count": 104,
   "metadata": {},
   "outputs": [
    {
     "data": {
      "text/plain": [
       "73.70119104335397"
      ]
     },
     "execution_count": 104,
     "metadata": {},
     "output_type": "execute_result"
    }
   ],
   "source": [
    "# we can view the intercept(b0)\n",
    "lm.intercept_"
   ]
  },
  {
   "cell_type": "code",
   "execution_count": 105,
   "metadata": {},
   "outputs": [
    {
     "data": {
      "text/plain": [
       "array([-0.60492126])"
      ]
     },
     "execution_count": 105,
     "metadata": {},
     "output_type": "execute_result"
    }
   ],
   "source": [
    "# we can also view the slope(b1)\n",
    "lm.coef_"
   ]
  },
  {
   "cell_type": "code",
   "execution_count": 106,
   "metadata": {},
   "outputs": [],
   "source": [
    "# the realtionship bw Annual income and age is given by\n",
    "# Annual Income=lm.intercept_+lm.coef_*Age\n",
    "# Yhat = b0 + b1*X"
   ]
  },
  {
   "cell_type": "code",
   "execution_count": 107,
   "metadata": {},
   "outputs": [],
   "source": [
    "# Multiple linear regression\n",
    "# this method is used to explain the relationship between\n",
    "# one continuous target(Y) variable\n",
    "# Two or more predictor(X) variables\n",
    "\n",
    "# Y hat=b0+b1x1+b2x2+b3x3+b4x4\n",
    "# b0:intercept(x=0)\n",
    "# b1=the coefficent or parameter of x1\n",
    "# b2=the coefficent of parameter of x2 and so on\n",
    "\n",
    "# Y hat =+2x1 + 3x2\n",
    "# the variable x1 and x2 can be visualixed on a 2 d plane"
   ]
  },
  {
   "cell_type": "code",
   "execution_count": 108,
   "metadata": {},
   "outputs": [],
   "source": [
    "# fitting a multiple linear model estimator\n",
    "Z=df[[\"Age\",\"Annual Income\"]]"
   ]
  },
  {
   "cell_type": "code",
   "execution_count": 109,
   "metadata": {},
   "outputs": [
    {
     "data": {
      "text/plain": [
       "LinearRegression()"
      ]
     },
     "execution_count": 109,
     "metadata": {},
     "output_type": "execute_result"
    }
   ],
   "source": [
    "# then train the model as before:\n",
    "lm.fit(Z,df[\"Spending Score (1-100)\"])"
   ]
  },
  {
   "cell_type": "code",
   "execution_count": 110,
   "metadata": {},
   "outputs": [
    {
     "data": {
      "text/plain": [
       "array([55.9917871 , 54.78221258, 54.71897843, 46.85674408, 52.8701253 ,\n",
       "       45.61267821, 51.01552361, 54.0394599 , 53.37718705, 52.16761254,\n",
       "       49.14367625, 54.58676157, 56.99441348, 41.26994478, 55.77334185,\n",
       "       49.12068201, 56.37238055, 46.09099716, 54.55227021, 51.52833393,\n",
       "       52.7149142 , 38.20002002, 55.7101077 , 42.40478802, 57.52446947,\n",
       "       38.77606448, 52.07563559, 52.07563559, 56.91393365, 49.65648656,\n",
       "       54.49478462, 52.07563559, 53.88424881, 48.44116348, 43.59711686,\n",
       "       52.06413847, 55.06508052, 62.32252762, 56.26315792, 39.93390196,\n",
       "       45.37123872, 53.23347307, 53.23347307, 47.79038775, 47.18560049,\n",
       "       50.81432404, 50.20953678, 57.46698388, 51.4191113 , 55.65262211,\n",
       "       53.23347307, 55.65262211, 54.43729903, 44.7607029 , 56.85644806,\n",
       "       58.67080984, 54.43155047, 56.8506995 , 39.30612046, 54.42580191,\n",
       "       52.60569158, 62.2822877 , 54.41430479, 47.1568577 , 56.22866657,\n",
       "       61.67175189, 55.01334349, 58.64206704, 50.77408413, 47.75014784,\n",
       "       38.07355171, 49.56450961, 45.33099881, 50.16929687, 55.00184637,\n",
       "       59.84014444, 50.15779975, 49.55301249, 50.75108989, 57.40374973,\n",
       "       43.4936428 , 42.88885554, 35.61991133, 62.83533793, 62.23055067,\n",
       "       44.08693294, 62.22480211, 50.73384421, 62.21905355, 34.39883969,\n",
       "       33.79405243, 32.58447792, 41.05149953, 33.79405243, 44.06968726,\n",
       "       61.00373048, 44.06968726, 57.97979419, 33.18351662, 59.79415596,\n",
       "       44.66872596, 61.60276918, 57.36350981, 45.26776466, 59.17787159,\n",
       "       54.33957352, 49.50127546, 44.6629774 , 32.56148368, 62.80084657,\n",
       "       43.44190576, 53.11850189, 60.37020042, 40.41222091, 57.93380572,\n",
       "       59.74816749, 46.44284782, 37.97582621, 39.18540072, 44.02369878,\n",
       "       49.4667841 , 50.67635862, 33.13752814, 45.83806056, 60.957742  ,\n",
       "       44.62848604, 37.34804471, 37.34804471, 45.2045305 , 31.29442357,\n",
       "       35.52218582, 62.73761242, 47.61793098, 32.49824953, 62.13282516,\n",
       "       54.27059081, 40.95952258, 33.09728823, 62.12132805, 31.27717789,\n",
       "       41.55856128, 57.28302998, 31.87046803, 42.75663868, 43.35567737,\n",
       "       37.91259205, 54.84663527, 45.17003915, 43.95471607, 53.6313122 ,\n",
       "       54.8293896 , 56.03896411, 57.24853863, 43.3384317 , 59.05715184,\n",
       "       43.9374704 , 54.82364104, 44.54225765, 59.05140328, 34.25512571,\n",
       "       61.46480376, 51.78820763, 55.3996855 , 48.1422384 , 60.83702226,\n",
       "       43.90297904, 62.65138403, 41.48383001, 60.81977658, 37.23307353,\n",
       "       59.60445351, 49.32307012, 55.9699814 , 40.85029995, 46.29338528,\n",
       "       52.34125785, 45.67135234, 54.74316121, 58.3661362 , 52.31826362,\n",
       "       52.31251506, 42.03113167, 61.37282681, 52.30101794, 51.08569486,\n",
       "       58.94792922, 38.38516245, 60.15750373, 52.28952082, 32.93632857,\n",
       "       55.31345711, 34.75069034, 52.28377226, 59.54121936, 54.69717273,\n",
       "       60.14025806, 61.34408401, 59.52972224, 60.73354819, 61.94312271])"
      ]
     },
     "execution_count": 110,
     "metadata": {},
     "output_type": "execute_result"
    }
   ],
   "source": [
    "# we can also obtain a prediction\n",
    "Yhat=lm.predict(Z)\n",
    "Yhat"
   ]
  },
  {
   "cell_type": "code",
   "execution_count": 111,
   "metadata": {},
   "outputs": [
    {
     "data": {
      "text/plain": [
       "73.34785222186396"
      ]
     },
     "execution_count": 111,
     "metadata": {},
     "output_type": "execute_result"
    }
   ],
   "source": [
    "# find the intercept b0\n",
    "lm.intercept_"
   ]
  },
  {
   "cell_type": "code",
   "execution_count": 112,
   "metadata": {},
   "outputs": [
    {
     "data": {
      "text/plain": [
       "array([-0.60478726,  0.00574856])"
      ]
     },
     "execution_count": 112,
     "metadata": {},
     "output_type": "execute_result"
    }
   ],
   "source": [
    "# find the coefficents(b1 b2 b3, and so on)\n",
    "lm.coef_"
   ]
  },
  {
   "cell_type": "code",
   "execution_count": 113,
   "metadata": {},
   "outputs": [],
   "source": [
    "# then we can find our estimated linear model\n",
    "# Spending score=lm.intercept+(lm.coef*feature1)+(lm.coef*feature2)\n",
    "# Y hat =b0+ b1x1+b2x2+b3x3 and so on"
   ]
  },
  {
   "cell_type": "code",
   "execution_count": null,
   "metadata": {},
   "outputs": [],
   "source": []
  },
  {
   "cell_type": "code",
   "execution_count": 114,
   "metadata": {},
   "outputs": [],
   "source": [
    "# Regression plot\n",
    "# why use this plot?\n",
    "# it gives good estimate of:\n",
    "#     the relationship bw 2 variables\n",
    "#     the strength of the corelation\n",
    "#     the direction of the relationship(+ve or -ve)\n",
    "# it shows the combo of:\n",
    "#     scatterplot:where each point represents a different y\n",
    "#     ythe fitted linear regression line (Y hat)\n",
    "# horizontal axis is the independent variable\n",
    "# vertical axis is the dependent variable\n",
    "# each point on the graph rep diff target point\n",
    "# and the fitted line rep predicted value"
   ]
  },
  {
   "cell_type": "code",
   "execution_count": 115,
   "metadata": {},
   "outputs": [],
   "source": [
    "# residual plot\n",
    "# rep the error bw the actual values\n",
    "# for this we subtarct the target value from the predicted value\n",
    "# then plot that value\n",
    "# and we expect the result to have zero(0) mean"
   ]
  },
  {
   "cell_type": "code",
   "execution_count": 116,
   "metadata": {},
   "outputs": [
    {
     "data": {
      "text/plain": [
       "<AxesSubplot:xlabel='Age', ylabel='Spending Score (1-100)'>"
      ]
     },
     "execution_count": 116,
     "metadata": {},
     "output_type": "execute_result"
    },
    {
     "data": {
      "image/png": "[encoded data removed]",
      "text/plain": [
       "<Figure size 432x288 with 1 Axes>"
      ]
     },
     "metadata": {
      "needs_background": "light"
     },
     "output_type": "display_data"
    }
   ],
   "source": [
    "sns.residplot(df['Age'],df['Spending Score (1-100)'])\n",
    "#1 parameter is feature and 2nd parameter is target"
   ]
  },
  {
   "cell_type": "code",
   "execution_count": 117,
   "metadata": {},
   "outputs": [],
   "source": [
    "# Distribution plot\n",
    "# it counts the pred value vs actual value\n",
    "# These plots are extremely useful for visualizing models\n",
    "# with more than one independent variable\n",
    "# or feature."
   ]
  },
  {
   "cell_type": "code",
   "execution_count": 118,
   "metadata": {},
   "outputs": [
    {
     "data": {
      "text/plain": [
       "<AxesSubplot:xlabel='Spending Score (1-100)', ylabel='Density'>"
      ]
     },
     "execution_count": 118,
     "metadata": {},
     "output_type": "execute_result"
    },
    {
     "data": {
      "image/png": "[encoded data removed]",
      "text/plain": [
       "<Figure size 432x288 with 1 Axes>"
      ]
     },
     "metadata": {
      "needs_background": "light"
     },
     "output_type": "display_data"
    }
   ],
   "source": [
    "ax1=sns.distplot(df[\"Spending Score (1-100)\"],hist=False,color='r',label='Actual value')\n",
    "sns.distplot(Yhat,hist=False,color='b',label='Fitted values',ax=ax1)"
   ]
  },
  {
   "cell_type": "code",
   "execution_count": 119,
   "metadata": {},
   "outputs": [],
   "source": [
    "# polynomial regression\n",
    "# what we do when a linear model is not the best fit for our data?\n",
    "# so for that there is another type of regression model:\n",
    "#     the polynomial regression\n",
    "# we transform our data into a polynomial\n",
    "# then use linear reg to fit the parameter\n"
   ]
  },
  {
   "cell_type": "code",
   "execution_count": 120,
   "metadata": {},
   "outputs": [],
   "source": [
    "import numpy as np"
   ]
  },
  {
   "cell_type": "code",
   "execution_count": 121,
   "metadata": {},
   "outputs": [
    {
     "name": "stdout",
     "output_type": "stream",
     "text": [
      "          3           2\n",
      "-0.01633 x + 0.09798 x + 0.8204 x + 3.098\n"
     ]
    }
   ],
   "source": [
    "x=[1,2,3]\n",
    "y=[4,5,6]\n",
    "# cal polynomial of 3rd order\n",
    "f=np.polyfit(x,y,3)\n",
    "p=np.poly1d(f)\n",
    "# we can print the model\n",
    "print(p)"
   ]
  },
  {
   "cell_type": "code",
   "execution_count": 122,
   "metadata": {},
   "outputs": [],
   "source": [
    "# we can have multi dimensinal polynomial linaer regression\n",
    "# Y hat=b0 + b1x1 + b2x2 + b3x1x2 +b4(x1)**2+..\n",
    "# numpy polyfit function cannot perform this type of regression"
   ]
  },
  {
   "cell_type": "code",
   "execution_count": null,
   "metadata": {},
   "outputs": [],
   "source": []
  },
  {
   "cell_type": "code",
   "execution_count": 123,
   "metadata": {},
   "outputs": [
    {
     "data": {
      "text/plain": [
       "array([[2., 3., 4., 6., 9.]])"
      ]
     },
     "execution_count": 123,
     "metadata": {},
     "output_type": "execute_result"
    }
   ],
   "source": [
    "# we use preprocessing library in scikit learn\n",
    "# to create a polynomial feature\n",
    "from sklearn.preprocessing import PolynomialFeatures\n",
    "# now we create constructor for it\n",
    "pr=PolynomialFeatures(degree=2,include_bias=False)\n",
    "# Then we transform the features into a polynomial feature\n",
    "# with the “fit_transform” method.\n",
    "x_polly=pr.fit_transform([[2,3]])\n",
    "x_polly\n",
    "# (x1) , (x2) , (x1)**2 , (x1*x2) , (x2)**2"
   ]
  },
  {
   "cell_type": "code",
   "execution_count": 124,
   "metadata": {},
   "outputs": [],
   "source": [
    "# As the dimension of the data gets larger we may want to\n",
    "# normalize multiple features in scikit-learn,\n",
    "# instead, we can use the preprocessing module to simplify many tasks."
   ]
  },
  {
   "cell_type": "code",
   "execution_count": 125,
   "metadata": {},
   "outputs": [],
   "source": [
    "# for example we can standardize or normalize each feature simultaneously\n",
    "# we import standard scalar\n",
    "from sklearn.preprocessing import StandardScaler\n",
    "# we train the object\n",
    "SCALE=StandardScaler()\n",
    "# fit the scale object\n",
    "SCALE.fit(df[['Age','Annual Income']])\n",
    "# now transform the data into a new dataframe\n",
    "x_scale=SCALE.transform(df[['Age','Annual Income']])"
   ]
  },
  {
   "cell_type": "code",
   "execution_count": 126,
   "metadata": {},
   "outputs": [],
   "source": [
    "# we can simply our code by using pipeline library also"
   ]
  },
  {
   "cell_type": "code",
   "execution_count": 127,
   "metadata": {},
   "outputs": [],
   "source": [
    "# now we will see how to numerically evaluate our model"
   ]
  },
  {
   "cell_type": "code",
   "execution_count": 128,
   "metadata": {},
   "outputs": [],
   "source": [
    "# measures for in sample evaluation\n",
    "# it is a way to numerically determine how good the model fits on dataset\n",
    "# to imp methods to determine the fit of a model\n",
    "# Mean Sq Error(MSE)\n",
    "# R squared(R**2)\n",
    "\n",
    "# to measure MSE we find the diff bw the actual value(y) \n",
    "# and predicted value(Y hat) then square it\n",
    "# we then take mean or avg of all the errors by adding them all together\n",
    "# and divide by no of samples"
   ]
  },
  {
   "cell_type": "code",
   "execution_count": 129,
   "metadata": {},
   "outputs": [],
   "source": [
    "# to find MSE in python\n",
    "# import the mean squared error from scikit learn metrics\n",
    "from sklearn.metrics import mean_squared_error\n",
    "\n",
    "# The “mean_Squared_error()” function gets two inputs\n",
    "# the actual value of target variable\n",
    "# and the predicted value of target variable.\n",
    "# mean_squared_error(df['Spending Score (1-100)'])"
   ]
  },
  {
   "cell_type": "code",
   "execution_count": 130,
   "metadata": {},
   "outputs": [],
   "source": [
    "# Model evaluation\n",
    "# function in the sci-kit learn package\n",
    "# for splitting datasets is the \"train test split\" function."
   ]
  },
  {
   "cell_type": "code",
   "execution_count": 131,
   "metadata": {},
   "outputs": [],
   "source": [
    "# split data into random train and test subsets\n",
    "from sklearn.model_selection import train_test_split\n",
    "# x_train,x_test,y_train,y_test=train_test_split(x_data,y_data,test_size=0.3,random_state=0)\n",
    "x_train,x_test,y_train,y_test=train_test_split(X,Y,test_size=0.3,random_state=0)\n",
    "\n",
    "# x_data:features or independent variables like Age, Annual income which will be use to predict the spending score\n",
    "# y_data:target variable:dataset target:df['Spending Score (1-100)']\n",
    "# the output is an array\n",
    "# x_train,y_train:the subsets of training\n",
    "# x_test,y_test:subsets of testing\n",
    "# test_size:percentage of data for testing here 30%\n",
    "# random_state:random dataset splitting"
   ]
  },
  {
   "cell_type": "code",
   "execution_count": 132,
   "metadata": {},
   "outputs": [],
   "source": [
    "# Generalization error is a measure of how well our data does\n",
    "# at predicting previously unseen data.\n",
    "# The error we obtain using our testing data\n",
    "# is an approximation of this error.\n",
    "\n",
    "# If we use fewer data points to train the model\n",
    "# and more to test the model,\n",
    "# the accuracy of the generalization performance will be less,\n",
    "# but the model will have good precision.\n",
    "\n",
    "# and If we use more data points to train the model\n",
    "# and less to test the model,\n",
    "# the accuracy of the generalization performance will be high,\n",
    "# but the model will not have good precision.\n",
    "\n",
    "# to overcome this problem\n",
    "# One of the most common out-of-sample\n",
    "# evaluation metrics is cross-validation.\n",
    "# In this method, the dataset is split into k-equal groups;\n",
    "# each group is referred to as a fold.\n",
    "# for example fold =4\n",
    "# and we use 3 folds for traing and 1 fold for testing\n",
    "# This is repeated until each partition is used for both training and testing.\n",
    "# at the end we use the avg results as the estimate of out of the sample error"
   ]
  },
  {
   "cell_type": "code",
   "execution_count": 133,
   "metadata": {},
   "outputs": [],
   "source": [
    "from sklearn.linear_model import Ridge\n",
    "RidgeModel=Ridge(alpha=0.1)\n",
    "RidgeModel.fit(X,Y)\n",
    "Yhat=RidgeModel.predict(X)"
   ]
  },
  {
   "cell_type": "code",
   "execution_count": 134,
   "metadata": {},
   "outputs": [],
   "source": [
    "# We start with a small value of alpha,\n",
    "# we train the model, make a prediction using the validation data,\n",
    "# then calculate the R squared and store the values.\n",
    "\n",
    "# Repeat the value for a larger value of alpha.\n",
    "\n",
    "# We train the model again, make a prediction using the validation data,\n",
    "# then calculate the R squared and store the values of R squared.\n",
    "\n",
    "# We repeat the process for a different alpha value,\n",
    "# training the model, and making a prediction.\n",
    "\n",
    "# We select the value of alpha that maximizes the R squared.\n",
    "# we can use other metrics also like MSE to select the value of alpha."
   ]
  }
 ],
 "metadata": {
  "kernelspec": {
   "display_name": "Python 3 (ipykernel)",
   "language": "python",
   "name": "python3"
  },
  "language_info": {
   "codemirror_mode": {
    "name": "ipython",
    "version": 3
   },
   "file_extension": ".py",
   "mimetype": "text/x-python",
   "name": "python",
   "nbconvert_exporter": "python",
   "pygments_lexer": "ipython3",
   "version": "3.9.12"
  }
 },
 "nbformat": 4,
 "nbformat_minor": 2
}
